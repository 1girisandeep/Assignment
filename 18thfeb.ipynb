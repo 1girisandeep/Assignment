{
 "cells": [
  {
   "cell_type": "code",
   "execution_count": null,
   "id": "eccf52c9-fa09-4c14-b3ef-7d1f82626c52",
   "metadata": {},
   "outputs": [],
   "source": [
    "# What is an API? \n",
    "- API stands for Application Programming Interface it is used to communicate between two homogeneous or hetrogeneous system\n",
    "\n",
    "# Give an example, where an API is used in real life. \n",
    "- API is used in several places like Gpay, Netflix uses for data streaming function etc \n"
   ]
  },
  {
   "cell_type": "code",
   "execution_count": null,
   "id": "d3eaa26c-a08b-4a56-8f53-9cdb41eb441d",
   "metadata": {},
   "outputs": [],
   "source": [
    "# Give advantages and disadvantages of using API \n",
    "- Advantage : By using API we can communicate and transfer data between two hetrogeneous system \n",
    "- Disadvantages : At a single point API become gateway for hackers to primary attack "
   ]
  },
  {
   "cell_type": "code",
   "execution_count": null,
   "id": "1fc9edf7-fc88-4047-b205-7c1ee0fc42d1",
   "metadata": {},
   "outputs": [],
   "source": [
    "# What is a Web API? \n",
    "- Web API is a sub set of API that follow http protocol \n",
    "\n",
    "# Differentiate between API and Web API \n",
    "- API is a superset where Web API is sub set    "
   ]
  },
  {
   "cell_type": "code",
   "execution_count": null,
   "id": "ceffc682-6f03-46b8-8aa4-7d400818b8e5",
   "metadata": {},
   "outputs": [],
   "source": [
    "# Explain REST and SOAP Architecture.  \n",
    "- REST stand for Representational State Transfer It uses Http protocol \n",
    "\n",
    "# Mention shortcomings of SOAP\n",
    "- As SOAP is based on XML so it can transfer message in XML file only \n",
    "\n",
    "and based on Client Server Architecture whereas SOAP \n",
    "follow XML based protocol   "
   ]
  },
  {
   "cell_type": "code",
   "execution_count": null,
   "id": "b25e7661-3eff-4737-9fe6-d2f2fcfbb7dc",
   "metadata": {},
   "outputs": [],
   "source": [
    "# Differentiate between REST and SOAP.\n",
    "- REST stand for Representational State Transfer It uses Http protocol and based on Client Server Architecture whereas SOAP \n",
    "follow XML based protocol \n"
   ]
  }
 ],
 "metadata": {
  "kernelspec": {
   "display_name": "Python 3 (ipykernel)",
   "language": "python",
   "name": "python3"
  },
  "language_info": {
   "codemirror_mode": {
    "name": "ipython",
    "version": 3
   },
   "file_extension": ".py",
   "mimetype": "text/x-python",
   "name": "python",
   "nbconvert_exporter": "python",
   "pygments_lexer": "ipython3",
   "version": "3.10.8"
  }
 },
 "nbformat": 4,
 "nbformat_minor": 5
}
