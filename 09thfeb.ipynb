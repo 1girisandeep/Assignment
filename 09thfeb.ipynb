{
 "cells": [
  {
   "cell_type": "code",
   "execution_count": 9,
   "id": "2528702c-b9fe-496f-bbc2-382b66744a63",
   "metadata": {},
   "outputs": [],
   "source": [
    "# Q1, Create a vehicle class with an init method having instance variables as name_of_vehicle, max_speed\n",
    "# and average_of_vehicle.\n",
    "\n",
    "class Vehicle:\n",
    "    def __init__(self, name_of_vehicle, max_speed, average_of_vehicle):\n",
    "        self.name_of_vehicle = name_of_vehicle\n",
    "        self.max_speed = max_speed\n",
    "        self.average_of_vehicle = average_of_vehicle\n",
    "        "
   ]
  },
  {
   "cell_type": "code",
   "execution_count": 14,
   "id": "3c2967d4-c3e6-4b43-bca4-55c3f18684a0",
   "metadata": {},
   "outputs": [
    {
     "data": {
      "text/plain": [
       "'The name of vehicle is Wagon R and its seating capacity is 5'"
      ]
     },
     "execution_count": 14,
     "metadata": {},
     "output_type": "execute_result"
    }
   ],
   "source": [
    "# Create a child class car from the vehicle class created in Que 1, which will inherit the vehicle class.\n",
    "# Create a method named seating_capacity which takes capacity as an argument and returns the name of\n",
    "# the vehicle and its seating capacity.\n",
    "\n",
    "class Car(Vehicle): \n",
    "    def seating_capacity(self, capacity):\n",
    "        self.capacity = capacity\n",
    "        return f\"The name of vehicle is {self.name_of_vehicle} and its seating capacity is {self.capacity}\"\n",
    "\n",
    "maruti = Car('Wagon R', 80, 30)\n",
    "\n",
    "\n",
    "\n",
    "maruti.seating_capacity(5)\n",
    "\n"
   ]
  },
  {
   "cell_type": "code",
   "execution_count": 26,
   "id": "6f49b51f-4820-4060-9a0f-bf39c961c6bd",
   "metadata": {},
   "outputs": [
    {
     "data": {
      "text/plain": [
       "'We should excercise daily'"
      ]
     },
     "execution_count": 26,
     "metadata": {},
     "output_type": "execute_result"
    }
   ],
   "source": [
    "# What is multiple inheritance? \n",
    "# When a class derives method and properties from more than one class then it is known as Multiple inheritance\n",
    "\n",
    "# Write a python code to demonstrate multiple inheritance.\n",
    "class Excercise: \n",
    "    def dailyexcercise(self):\n",
    "        return \"We should excercise daily\"\n",
    "    \n",
    "class Diet:\n",
    "    def propermeal(self): \n",
    "        return \"Our diet should contain proper meal\"\n",
    "        \n",
    "class Health(Diet, Excercise): \n",
    "    def impmsg(self):\n",
    "        return \"Our Health depends on our diet and excercise\"\n",
    "    \n",
    "sandeep = Health()\n",
    "sandeep.dailyexcercise()\n",
    "\n"
   ]
  },
  {
   "cell_type": "code",
   "execution_count": 35,
   "id": "b98b9454-b3cc-474a-ac45-1ff629e32504",
   "metadata": {},
   "outputs": [
    {
     "data": {
      "text/plain": [
       "'3 Idiots'"
      ]
     },
     "execution_count": 35,
     "metadata": {},
     "output_type": "execute_result"
    }
   ],
   "source": [
    "# What are getter and setter in python? \n",
    "# Getter and Setter is a method that is used to access class private attributes\n",
    "\n",
    "# Create a class and create a getter and a setter method in this class.\n",
    "\n",
    "class Movie : \n",
    "    __favmovie = 'Munna Bhai MBBS'\n",
    "    \n",
    "    #Getter \n",
    "    def setMovie(self):\n",
    "        self.__favmovie = \"3 Idiots\"\n",
    "    \n",
    "    #Setter \n",
    "    def getMovie(self):\n",
    "        return self.__favmovie\n",
    "        \n",
    "    \n",
    "obj_movie = Movie()\n",
    "obj_movie.setMovie()\n",
    "obj_movie.getMovie()\n",
    "\n",
    "    \n",
    "    \n"
   ]
  },
  {
   "cell_type": "code",
   "execution_count": 39,
   "id": "312a4b1f-3759-4c14-ad7b-bcdc29fdb4c2",
   "metadata": {},
   "outputs": [
    {
     "data": {
      "text/plain": [
       "'My Fav actor is Ranbveer Kapoor'"
      ]
     },
     "execution_count": 39,
     "metadata": {},
     "output_type": "execute_result"
    }
   ],
   "source": [
    "# What is method overriding in python? \n",
    "# When we declare same method in parent and child class then child class method overide parent class method and this is called \n",
    "# Method Overiding\n",
    "\n",
    "# Write a python code to demonstrate method overriding.\n",
    "\n",
    "class Movie: \n",
    "    def fav_actor(self):\n",
    "        return \"My Fav actor is Aamir\"\n",
    "    \n",
    "class LatestMovie(Movie): \n",
    "    \n",
    "    def fav_actor(self):\n",
    "        return \"My Fav actor is Ranbveer Kapoor\"\n",
    "\n",
    "l1 = LatestMovie()\n",
    "l1.fav_actor()\n",
    "    \n"
   ]
  },
  {
   "cell_type": "code",
   "execution_count": null,
   "id": "05a876fa-339a-46cf-853a-828ea68368a6",
   "metadata": {},
   "outputs": [],
   "source": []
  },
  {
   "cell_type": "code",
   "execution_count": null,
   "id": "811c6031-b134-4b78-97b8-a172a5e4f1ec",
   "metadata": {},
   "outputs": [],
   "source": []
  },
  {
   "cell_type": "code",
   "execution_count": null,
   "id": "2e218b1a-b588-4172-8983-c966ffb6e09d",
   "metadata": {},
   "outputs": [],
   "source": []
  },
  {
   "cell_type": "code",
   "execution_count": null,
   "id": "81f40c7d-04fb-4068-a922-1ab588256dc5",
   "metadata": {},
   "outputs": [],
   "source": []
  }
 ],
 "metadata": {
  "kernelspec": {
   "display_name": "Python 3 (ipykernel)",
   "language": "python",
   "name": "python3"
  },
  "language_info": {
   "codemirror_mode": {
    "name": "ipython",
    "version": 3
   },
   "file_extension": ".py",
   "mimetype": "text/x-python",
   "name": "python",
   "nbconvert_exporter": "python",
   "pygments_lexer": "ipython3",
   "version": "3.10.8"
  }
 },
 "nbformat": 4,
 "nbformat_minor": 5
}
