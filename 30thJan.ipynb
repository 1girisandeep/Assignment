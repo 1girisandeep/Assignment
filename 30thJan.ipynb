{
 "cells": [
  {
   "cell_type": "code",
   "execution_count": 13,
   "id": "42859611-f118-430f-927c-2785444e78cb",
   "metadata": {},
   "outputs": [
    {
     "name": "stdin",
     "output_type": "stream",
     "text": [
      "Enter your percentage 88\n"
     ]
    },
    {
     "name": "stdout",
     "output_type": "stream",
     "text": [
      "You score B Grade\n"
     ]
    }
   ],
   "source": [
    "#Write a program to take percentage from user and display there grade\n",
    "percentage = int(input(\"Enter your percentage\"))\n",
    "if percentage > 90:\n",
    "    print(\"You score A Grade\")\n",
    "elif percentage > 80 and percentage <=90:\n",
    "    print(\"You score B Grade\")\n",
    "elif percentage >= 60 and percentage <=80:\n",
    "    print(\"You score C Grade\")\n",
    "else :\n",
    "    print(\"You score D Grade\")\n",
    "\n",
    "    "
   ]
  },
  {
   "cell_type": "code",
   "execution_count": 16,
   "id": "08b40c3e-3c2d-42c4-b57f-f18ef7259f93",
   "metadata": {},
   "outputs": [
    {
     "name": "stdin",
     "output_type": "stream",
     "text": [
      "Enter your bike price 200000000\n"
     ]
    },
    {
     "name": "stdout",
     "output_type": "stream",
     "text": [
      "You will come in 15% road tax slab\n"
     ]
    }
   ],
   "source": [
    "# Write a program to take price cost of bike and display road tax\n",
    "bikeprice = int(input(\"Enter your bike price\"))\n",
    "if bikeprice > 100000:\n",
    "    print(\"You will come in 15% road tax slab\")\n",
    "elif bikeprice > 50000 and bikeprice <=100000:\n",
    "    print(\"You will come in 10% road tax slab\")\n",
    "else : \n",
    "    print(\"You will come in 5% road tax slab\")\n",
    "    "
   ]
  },
  {
   "cell_type": "code",
   "execution_count": 24,
   "id": "f9bcf971-8f08-4d8a-8a9a-9fd0447fbb7b",
   "metadata": {},
   "outputs": [
    {
     "name": "stdin",
     "output_type": "stream",
     "text": [
      "Enter your city mumbai\n"
     ]
    }
   ],
   "source": [
    "# Write a program to accept any city from user and display the monument of that city \n",
    "city = input(\"Enter your city\").capitalize()\n",
    "if city == 'Delhi':\n",
    "    print(\"Red Fort\")\n",
    "elif city == 'Agra': \n",
    "    print(\"Taj Mahal\")\n",
    "elif city == 'Jaipur':\n",
    "    print(\"Jal Mahal\")\n"
   ]
  },
  {
   "cell_type": "code",
   "execution_count": 53,
   "id": "e9793a18-4e70-4b7e-b59f-d07267d220c2",
   "metadata": {},
   "outputs": [
    {
     "name": "stdout",
     "output_type": "stream",
     "text": [
      "3\n"
     ]
    }
   ],
   "source": [
    "# Check how many times a number is divided by 3 for a number less than or equal to 10\n",
    "num = 1\n",
    "count = 0\n",
    "while num <11:\n",
    "    if num%3 == 0 :\n",
    "        count = count +1\n",
    "    num = num +1\n",
    "print(count)\n"
   ]
  },
  {
   "cell_type": "code",
   "execution_count": 46,
   "id": "c507cba3-473c-4893-8cee-d71469247f6a",
   "metadata": {},
   "outputs": [
    {
     "data": {
      "text/plain": [
       "0"
      ]
     },
     "execution_count": 46,
     "metadata": {},
     "output_type": "execute_result"
    }
   ],
   "source": [
    "# Why and when to use while loop in Python give a detailed description with example \n",
    "- When we want to execute a set of statement as long as a condition is true then we use while loop\n",
    "eg : to find out odd no , even no of a no range \n",
    "    "
   ]
  },
  {
   "cell_type": "code",
   "execution_count": 20,
   "id": "8ded8994-570b-40e2-8765-86dc750480cc",
   "metadata": {},
   "outputs": [
    {
     "name": "stdout",
     "output_type": "stream",
     "text": [
      "* \n",
      "* * \n",
      "* * * \n"
     ]
    }
   ],
   "source": [
    "# Use nested while loop to print 3 different pattern\n",
    "# First Pattern \n",
    "i=1\n",
    "\n",
    "while i<4:\n",
    "    j=1\n",
    "    while j<=i:\n",
    "        print('*', end=' ')\n",
    "        j = j+1\n",
    "    print('')\n",
    "    i = i+1 \n",
    "    "
   ]
  },
  {
   "cell_type": "code",
   "execution_count": 5,
   "id": "cd946bbe-b0bb-4ccc-9e65-873bef6668aa",
   "metadata": {},
   "outputs": [
    {
     "name": "stdout",
     "output_type": "stream",
     "text": [
      "****\n",
      "***\n",
      "**\n",
      "*\n"
     ]
    }
   ],
   "source": [
    "# Second Pattern\n",
    "i=4\n",
    "while i>=1:\n",
    "    j=1\n",
    "    while j<=i:\n",
    "        print('*', end=\"\")\n",
    "        j = j+1\n",
    "    print(\"\")\n",
    "    i = i-1\n",
    "    "
   ]
  },
  {
   "cell_type": "code",
   "execution_count": null,
   "id": "8f8860f3-15c2-4752-878b-249f206185e2",
   "metadata": {},
   "outputs": [],
   "source": [
    "# Third Pattern\n",
    "i=1\n",
    "while i<=3:\n",
    "    j=1\n",
    "    while j<=i:\n",
    "        print(i, end=\"\")\n",
    "        j = j+1\n",
    "    print(\"\")\n",
    "    i = i-1"
   ]
  },
  {
   "cell_type": "code",
   "execution_count": null,
   "id": "13fa4a51-f758-487b-90f0-2660e5a2e4e3",
   "metadata": {},
   "outputs": [],
   "source": [
    "# Reverse a while loop to display a number from 10 to 0 \n",
    "i=10\n",
    "while i>=1:\n",
    "    print(i)\n",
    "    i = i-1"
   ]
  },
  {
   "cell_type": "code",
   "execution_count": null,
   "id": "fa184990-8b9f-4235-b03d-3f5778d3945e",
   "metadata": {},
   "outputs": [],
   "source": []
  }
 ],
 "metadata": {
  "kernelspec": {
   "display_name": "Python 3 (ipykernel)",
   "language": "python",
   "name": "python3"
  },
  "language_info": {
   "codemirror_mode": {
    "name": "ipython",
    "version": 3
   },
   "file_extension": ".py",
   "mimetype": "text/x-python",
   "name": "python",
   "nbconvert_exporter": "python",
   "pygments_lexer": "ipython3",
   "version": "3.10.8"
  }
 },
 "nbformat": 4,
 "nbformat_minor": 5
}
