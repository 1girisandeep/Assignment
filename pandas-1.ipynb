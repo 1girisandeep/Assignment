{
 "cells": [
  {
   "cell_type": "code",
   "execution_count": 12,
   "id": "c76144ce-4ba7-401b-be49-f7a5a3c7edeb",
   "metadata": {},
   "outputs": [
    {
     "name": "stdout",
     "output_type": "stream",
     "text": [
      "0     4\n",
      "1     8\n",
      "2    15\n",
      "3    23\n",
      "4    42\n",
      "dtype: int64\n"
     ]
    }
   ],
   "source": [
    "# Create a Pandas Series that contains the following data: 4, 8, 15, 16, 23, and 42. Then, print the series.\n",
    "\n",
    "# import pandas as pd\n",
    "try:\n",
    "    \n",
    "    import logging\n",
    "    import pandas as pd\n",
    "    \n",
    "    logging.basicConfig(filename=\"pandaslog.log\", level = logging.INFO)\n",
    "\n",
    "    df = pd.Series([4,8,15,23,42])\n",
    "    print(df)\n",
    "    logging.info(df)\n",
    "except Exception as e:\n",
    "    print(e)\n",
    "    "
   ]
  },
  {
   "cell_type": "code",
   "execution_count": 19,
   "id": "94580376-359d-464d-a848-9894a2246123",
   "metadata": {},
   "outputs": [],
   "source": [
    "# Create a variable of list type containing 10 elements in it, and apply pandas.Series function on the variable print it.\n",
    "\n",
    "try:\n",
    "    num = [1,2,3,4,5,6,7,8,9,10]\n",
    "    type(num)\n",
    "    serlist = pd.Seriesss(num)\n",
    "\n",
    "    print(serlist)\n",
    "    logging.info(serlist)\n",
    "except Exception as e:\n",
    "    logging.error(e)\n",
    "    \n",
    "    "
   ]
  },
  {
   "cell_type": "code",
   "execution_count": 31,
   "id": "f1c3f39e-37d5-46a8-9bf0-e0f9a6c39269",
   "metadata": {},
   "outputs": [
    {
     "name": "stdout",
     "output_type": "stream",
     "text": [
      "     Name  Age     Sex\n",
      "0   Alice   25  female\n",
      "1     Bob   30    male\n",
      "2  Clarie   27  female\n"
     ]
    }
   ],
   "source": [
    "# Create a Pandas DataFrame that contains the following data:\n",
    "\n",
    "try:\n",
    "\n",
    "    data = [['Alice',25, 'female'],['Bob',30, 'male'],['Clarie',27, 'female']]\n",
    "    df = pd.DataFrame(data, columns=['Name', 'Age', 'Sex'])\n",
    "    print(df)\n",
    "    logging.info(df)\n",
    "except Exception as e: \n",
    "    logging.error(e)\n",
    "    \n",
    "    "
   ]
  },
  {
   "cell_type": "code",
   "execution_count": 35,
   "id": "4be7617e-71f5-4e20-ae19-aafaf9fe54b8",
   "metadata": {},
   "outputs": [
    {
     "name": "stdout",
     "output_type": "stream",
     "text": [
      "  sandeepFruit piyushFruit\n",
      "0       apples       mango\n",
      "1      oranges      grapes\n",
      "2      bananas    pinapple\n"
     ]
    }
   ],
   "source": [
    "# What is ‘DataFrame’ in pandas and how is it different from pandas.series?\n",
    "# Pandas Series are one dimensional data whereas Pandas Dataframe can also be thought of as a collection of two \n",
    "#or more series with common indices.\n",
    "\n",
    "\n",
    "# Explain with an example.\n",
    "#STRING SERIES\n",
    "\n",
    "try:\n",
    "    fruits = pd.Series([\"apples\", \"oranges\", \"bananas\"])\n",
    "\n",
    "    #DATAFRAME SERIES\n",
    "    sandeep_fruits = pd.Series([\"apples\", \"oranges\", \"bananas\"])\n",
    "    piyush_fruits = pd.Series([\"mango\", \"grapes\", \"pinapple\"])\n",
    "\n",
    "    all_fruits = {\"sandeepFruit\": sandeep_fruits, \"piyushFruit\": piyush_fruits}\n",
    "\n",
    "    print(pd.DataFrame(all_fruits))\n",
    "    logging.info(pd.DataFrame(all_fruits))\n",
    "except Exception as e : \n",
    "    logging.error(e)\n",
    "    \n",
    "    \n",
    "\n"
   ]
  },
  {
   "cell_type": "code",
   "execution_count": null,
   "id": "4e1da61e-ef0c-48b4-b48f-8ea8d32ec931",
   "metadata": {},
   "outputs": [],
   "source": [
    "# What are some common functions you can use to manipulate data in a Pandas DataFrame? \n",
    "- There are some common functions i.e used to manipulate data in Pandas DataFrame eg pd.read_csv(), pd.head(), \n",
    "pd.tail() etc \n",
    "\n",
    "\n",
    "# Can you give an example of when you might use one of these functions ?\n",
    "- We use pd.read_csv() function to read the csv file \n"
   ]
  },
  {
   "cell_type": "code",
   "execution_count": 49,
   "id": "dfb32899-2165-4331-965e-5951a3e3f6aa",
   "metadata": {},
   "outputs": [
    {
     "name": "stdout",
     "output_type": "stream",
     "text": [
      "Before Mutation 0     4\n",
      "1     8\n",
      "2    15\n",
      "3    23\n",
      "4    42\n",
      "dtype: int64\n",
      "After Mutation 0     8\n",
      "1    16\n",
      "2    30\n",
      "3    46\n",
      "4    84\n",
      "dtype: int64\n",
      "Before Mutation   sandeepFruit piyushFruit\n",
      "1      oranges      grapes\n",
      "2      bananas    pinapple\n",
      "3          NaN         NaN\n",
      "After Mutation   sandeepFruit piyushFruit\n",
      "0       apples       mango\n",
      "1      oranges      grapes\n",
      "2      bananas    pinapple\n"
     ]
    }
   ],
   "source": [
    "# Which of the following is mutable in nature Series, DataFrame, Panel? \n",
    "# Series are mutable\n",
    "df = pd.Series([4,8,15,23,42])\n",
    "print(\"Before Mutation\", df)\n",
    "df = df + df\n",
    "print(\"After Mutation\", df)\n",
    "\n",
    "type(df)\n",
    "\n",
    "\n",
    "# Dataframe are value and size mutable \n",
    "\n",
    "sandeep_fruits = pd.Series([\"apples\", \"oranges\", \"bananas\"])\n",
    "piyush_fruits = pd.Series([\"mango\", \"grapes\", \"pinapple\"])\n",
    "\n",
    "all_fruits = {\"sandeepFruit\": sandeep_fruits, \"piyushFruit\": piyush_fruits}\n",
    "\n",
    "print(\"Before Mutation\", pd.DataFrame(all_fruits, index=[1,2,3]))\n",
    "\n",
    "print(\"After Mutation\", pd.DataFrame(all_fruits))"
   ]
  },
  {
   "cell_type": "code",
   "execution_count": 53,
   "id": "767d807f-4425-48d4-ab23-9c05c0cdf50e",
   "metadata": {},
   "outputs": [
    {
     "name": "stdout",
     "output_type": "stream",
     "text": [
      "  sandeepFruit piyushFruit\n",
      "0      Cricket      Hockey\n",
      "1        Chess   Badminton\n"
     ]
    }
   ],
   "source": [
    "# Create a DataFrame using multiple Series. Explain with an example.\n",
    "# Dataframe are value and size mutable \n",
    "\n",
    "sandeep_fav_game = pd.Series([\"Cricket\", \"Chess\"])\n",
    "piyush_fav_game = pd.Series([\"Hockey\", \"Badminton\"])\n",
    "\n",
    "all_fruits = {\"sandeepFruit\": sandeep_fav_game, \"piyushFruit\": piyush_fav_game}\n",
    "\n",
    "print(pd.DataFrame(all_fruits))"
   ]
  },
  {
   "cell_type": "code",
   "execution_count": null,
   "id": "fb333f53-5775-41e3-9e99-a05c482cb0d9",
   "metadata": {},
   "outputs": [],
   "source": []
  },
  {
   "cell_type": "code",
   "execution_count": null,
   "id": "e94fa03b-a2ee-42b5-b12e-0b09c2ac0572",
   "metadata": {},
   "outputs": [],
   "source": []
  },
  {
   "cell_type": "code",
   "execution_count": null,
   "id": "4506b7d5-b6f6-4692-af28-a8e1fe0503f1",
   "metadata": {},
   "outputs": [],
   "source": []
  }
 ],
 "metadata": {
  "kernelspec": {
   "display_name": "Python 3 (ipykernel)",
   "language": "python",
   "name": "python3"
  },
  "language_info": {
   "codemirror_mode": {
    "name": "ipython",
    "version": 3
   },
   "file_extension": ".py",
   "mimetype": "text/x-python",
   "name": "python",
   "nbconvert_exporter": "python",
   "pygments_lexer": "ipython3",
   "version": "3.10.8"
  }
 },
 "nbformat": 4,
 "nbformat_minor": 5
}
