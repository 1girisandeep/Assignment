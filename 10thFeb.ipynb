{
 "cells": [
  {
   "cell_type": "code",
   "execution_count": null,
   "id": "839f5d7c-e01e-4fd9-b392-1d0c82b3a69d",
   "metadata": {},
   "outputs": [],
   "source": [
    "# Which function is used to open a file? \n",
    "- Open() method is used to open a file \n",
    "\n",
    "# What are the different modes of opening a file? \n",
    "- There are different modes of opening a file like read, write, append, exclusive creation, text, binary and close mode \n",
    "\n",
    "#Explain each mode of file opening.\n",
    "- Read() Mode : When we suppose to open a file for reading purpose\n",
    "f = open(\"textfile.txt\", 'r')\n",
    "\n",
    "- Write() Mode : When we suppose to open a file for writing purpose. It overide previos text\n",
    "f = open(\"textfile.txt\", 'w')\n",
    "\n",
    "- Append() Mode : When we suppose to open a file for writing purpose. It doesn't overide previos text\n",
    "f = open(\"textfile.txt\", 'a')\n",
    "\n",
    "- Exclusive() Mode : When we suppose to create a exclusive file\n",
    "f = open(\"textfile.txt\", 'a')\n",
    "\n",
    "- close() Mode : When we suppose to create a exclusive file\n",
    "f.close()\n",
    "\n"
   ]
  },
  {
   "cell_type": "code",
   "execution_count": null,
   "id": "c1da35b2-bfda-468c-8259-2723f7d04d30",
   "metadata": {},
   "outputs": [],
   "source": [
    "# Why close() function is used? \n",
    "- Close() function is used to close the open file\n",
    "\n",
    "# Why is it important to close a file? \n",
    "- It is important to close files that you are working with once you finished your work with them. Opening too many \n",
    "files consume space in RAM that will lead to impact the performance "
   ]
  },
  {
   "cell_type": "code",
   "execution_count": 20,
   "id": "ecdf53c0-8cbc-4987-8b10-eb69eaa53178",
   "metadata": {},
   "outputs": [
    {
     "name": "stdout",
     "output_type": "stream",
     "text": [
      "I Want to Become a Data Scientist\n"
     ]
    }
   ],
   "source": [
    "# Write a python program to create a text file. Write ‘I want to become a Data Scientist’ in that file. Then\n",
    "# close the file. Open this file and read the content of the file.\n",
    "\n",
    "\n",
    "try : \n",
    "    import logging \n",
    "    logging.basicConfig(filename=\"error.log\", level=logging.DEBUG)\n",
    "\n",
    "        \n",
    "    with open (\"10thfeb.txt\", 'w') as f: \n",
    "        f.write(\"I Want to Become a Data Scientist\")\n",
    "        \n",
    "\n",
    "    \n",
    "    with open(\"10thfeb.txt\", 'r') as f:\n",
    "        print(f.read())\n",
    "        \n",
    "except FileNotFoundError as e : \n",
    "   \n",
    "    logging.error(\"Error Messgae {}\". format(e))\n",
    "    \n",
    "\n",
    "        "
   ]
  },
  {
   "cell_type": "code",
   "execution_count": 4,
   "id": "9fdce1c7-bff9-42c5-be6c-795215a8cc7e",
   "metadata": {},
   "outputs": [
    {
     "name": "stdout",
     "output_type": "stream",
     "text": [
      "Data \n",
      "Science Masters course is highly \n",
      "\n",
      "['curated and uniquely designed according to the \\n', 'latest industry standards. This program instills \\n', '\\n', \"students the skills essential to knowledge discovery efforts to identify standard, novel, and truly differentiated solutions and decision-making, including skills in managing, querying, analyzing, visualizing, and extracting meaning from extremely large data sets. This trending program provides students with the statistical, mathematical and computational skills needed to meet the large-scale data science challenges of today's professional world. You will learn all the stack required to work in data science industry including cloud infrastructure and real-time industry projects. This course will be taught in Hindi language.\"]\n"
     ]
    }
   ],
   "source": [
    "# Code to insert demo data in file\n",
    "try: \n",
    "    import logging \n",
    "    logging.basicConfig(filename=\"errortxt.log\", level=logging.DEBUG)\n",
    "    \n",
    "    with open(\"demofile.txt\", 'w') as f: \n",
    "        f.write(\"Data Science Masters course is highly curated and uniquely designed according to the latest industry standards. This program instills students the skills essential to knowledge discovery efforts to identify standard, novel, and truly differentiated solutions and decision-making, including skills in managing, querying, analyzing, visualizing, and extracting meaning from extremely large data sets. This trending program provides students with the statistical, mathematical and computational skills needed to meet the large-scale data science challenges of today's professional world. You will learn all the stack required to work in data science industry including cloud infrastructure and real-time industry projects. This course will be taught in Hindi language.\")\n",
    "        \n",
    "    f.close()\n",
    "    \n",
    "except FileNotFoundError as e : \n",
    "    logging.error(\"Error Message {}\". format(e)) \n",
    "    \n",
    "\n",
    "# Explain the following with python code: read(), readline() and readlines().\n",
    "\n",
    "- read() : It is used to read the number of character from a file, read(5) it reads 5 character from file \n",
    "\n",
    "- readline() : It is used to read single line from a file\n",
    "\n",
    "-readlines() : It is used to read all the file\n",
    "\n",
    "\n",
    "try: \n",
    "    import logging \n",
    "    logging.basicConfig(filename=\"errortxt.log\", level=logging.DEBUG)\n",
    "    \n",
    "    with open(\"demofile.txt\", 'r') as f: \n",
    "        print(f.read(5))\n",
    "        print(f.readline())\n",
    "        print(f.readlines())\n",
    "        \n",
    "    \n",
    "    \n",
    "except FileNotFoundError as e : \n",
    "    logging.error(\"Error Message {}\". format(e))\n"
   ]
  },
  {
   "cell_type": "code",
   "execution_count": null,
   "id": "bbe75ed3-5f9f-422d-ba92-80e123bf4cfb",
   "metadata": {},
   "outputs": [],
   "source": [
    "# Explain why with statement is used with open(). \n",
    "- With statement is used with open() function to open a file\n",
    "\n",
    "# What is the advantage of using with statement and open() together?\n",
    "- We didn't need to close the file at the end that we open using with and open method it will close by \n",
    "with statement automatically\n",
    "\n"
   ]
  },
  {
   "cell_type": "code",
   "execution_count": 12,
   "id": "c8207f0a-889b-4c6e-9240-490835bbcd0d",
   "metadata": {},
   "outputs": [],
   "source": [
    "# Explain the write() and writelines() functions. Give a suitable example.\n",
    "\n",
    "#- f.write() : Write will create a file if it doesn't exit and If the file exist then it will overide the existing content\n",
    "- f.writelines() : The write() method accepts a string as an argument and writes this string to the text file. \n",
    "Whereas, the writelines() method accepts an iterable i.e. a string or the list of strings as an argument and writes \n",
    "these strings to the text file.\n",
    "\n",
    "try : \n",
    "    import logging\n",
    "    logging.basicConfig(filename=\"error.log\", level = logging.DEBUG)\n",
    "    \n",
    "    with open(\"demofile2.txt\", 'w') as f: \n",
    "        f.write(\"Write will create a file if it doesn't exit and If the file exist then it will overide the existing content\")\n",
    "        f.writelines([\"See you soon!\"])\n",
    "except FileNotFoundError as e: \n",
    "    logging.error(\"File Not Found\")\n",
    "    \n",
    "    \n"
   ]
  },
  {
   "cell_type": "code",
   "execution_count": null,
   "id": "55e291ff-08d5-4cd7-a424-0a3831607c59",
   "metadata": {},
   "outputs": [],
   "source": []
  },
  {
   "cell_type": "code",
   "execution_count": null,
   "id": "dd8913c8-e2b3-4767-8264-8451d2f3cd6f",
   "metadata": {},
   "outputs": [],
   "source": []
  }
 ],
 "metadata": {
  "kernelspec": {
   "display_name": "Python 3 (ipykernel)",
   "language": "python",
   "name": "python3"
  },
  "language_info": {
   "codemirror_mode": {
    "name": "ipython",
    "version": 3
   },
   "file_extension": ".py",
   "mimetype": "text/x-python",
   "name": "python",
   "nbconvert_exporter": "python",
   "pygments_lexer": "ipython3",
   "version": "3.10.8"
  }
 },
 "nbformat": 4,
 "nbformat_minor": 5
}
