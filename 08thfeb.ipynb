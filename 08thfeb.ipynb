{
 "cells": [
  {
   "cell_type": "code",
   "execution_count": 2,
   "id": "54e656af-063a-4628-bcef-e1138d0b0839",
   "metadata": {},
   "outputs": [],
   "source": [
    "# What is Abstraction in OOps? Explain with an example.\n",
    "- Abstraction in OOps means showing necessary things and hiding unnecessary things from user \n",
    "\n",
    "# example \n",
    "- Tv remote is an example of abstraction we click on the button and channel would changes etc "
   ]
  },
  {
   "cell_type": "code",
   "execution_count": null,
   "id": "0420bd25-3c8e-464a-afa1-f6e47e195dd8",
   "metadata": {},
   "outputs": [],
   "source": [
    "# Differentiate between Abstraction and Encapsulation. Explain with an example.\n",
    "- Abstraction means showing necessary things and hiding unnecessary thing from users Whereas Encapsulation means \n",
    "wrapping of data member and method into a single unit \n",
    "- Abstraction can be achieved with the help of access specifiers whereas class is an example of encapsulation \n",
    "\n",
    "eg : Abstraction \n",
    "class Bankdetail : \n",
    "    def __init__(self, accountbal):\n",
    "        self.accountbal = accountbal\n",
    "        \n",
    "eg : Encapsulation\n",
    "class PersonalDetail: \n",
    "    def __init__(self, mobileno):\n",
    "        self.__mobileno = mobileno\n",
    "        \n",
    "    def showdetail(self): \n",
    "        return self.mobileno\n",
    "    \n",
    "    \n",
    "sandeep = PersonalDetail(8285048019)\n",
    "sandeep.showdetail()\n",
    "    "
   ]
  },
  {
   "cell_type": "code",
   "execution_count": null,
   "id": "7434a96c-ede9-4735-b437-162726fdf649",
   "metadata": {},
   "outputs": [],
   "source": [
    "# What is abc module in python? Why is it used?\n",
    "- Python has a built in module called abc(Abstract Base Class) that offers necessary tools for creating Abstract \n",
    "Base Class"
   ]
  },
  {
   "cell_type": "code",
   "execution_count": null,
   "id": "9c5bac55-ed88-42c2-8372-ec9c291a22ce",
   "metadata": {},
   "outputs": [],
   "source": [
    "# Q4. How can we achieve data abstraction?\n",
    "- Data abstraction refers to the phenomena of showing necessary things and hiding unnecessary things from users\n",
    "It can be achieved with the help of access specifiers "
   ]
  },
  {
   "cell_type": "code",
   "execution_count": null,
   "id": "123a22f5-8dba-43ad-b8b2-d79c675cd56e",
   "metadata": {},
   "outputs": [],
   "source": [
    "# Can we create an instance of an abstract class? Explain your answer.\n",
    "import abc \n",
    "class employee: \n",
    "    @abc.abstractclassmethod\n",
    "    def rewardpoint(self):\n",
    "        pass \n",
    "    \n",
    "class Web(employee): \n",
    "    def rewardpoint(self):\n",
    "        return \"This is WEB reward point\"\n",
    "    \n",
    "w1 = Web()\n",
    "w1.rewardpoint()"
   ]
  },
  {
   "cell_type": "code",
   "execution_count": null,
   "id": "ab3548f5-299a-4567-9057-b2114422b678",
   "metadata": {},
   "outputs": [],
   "source": []
  },
  {
   "cell_type": "code",
   "execution_count": null,
   "id": "2acda40c-2e61-4c3a-9c5b-c183cb9651e0",
   "metadata": {},
   "outputs": [],
   "source": []
  }
 ],
 "metadata": {
  "kernelspec": {
   "display_name": "Python 3 (ipykernel)",
   "language": "python",
   "name": "python3"
  },
  "language_info": {
   "codemirror_mode": {
    "name": "ipython",
    "version": 3
   },
   "file_extension": ".py",
   "mimetype": "text/x-python",
   "name": "python",
   "nbconvert_exporter": "python",
   "pygments_lexer": "ipython3",
   "version": "3.10.8"
  }
 },
 "nbformat": 4,
 "nbformat_minor": 5
}
