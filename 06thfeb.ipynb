{
 "cells": [
  {
   "cell_type": "code",
   "execution_count": 37,
   "id": "0b02e98c-3d5a-4cc5-9347-b13df35fab1b",
   "metadata": {},
   "outputs": [
    {
     "name": "stdout",
     "output_type": "stream",
     "text": [
      "Final List that contains only integer from given list  [1, 2, 3, 4, 44, 55, 66, 34, 56, 78, 89, 34, 1, 2, 3, 1, 34, 55, 67, 78, 89, 4, 45, 22, 61, 34, 56]\n",
      "Product of all numbers of finallist  4134711838987085478833841242112000\n"
     ]
    }
   ],
   "source": [
    "# Q1. Create a function which will take a list as an argument and return the product of all the numbers after creating \n",
    "# a flat list. Use the below-given list as an argument for your function.\n",
    "# data = [1,2,3,4, [44,55,66, True], False, (34,56,78,89,34), {1,2,3,3,2,1}, {1:34, \"key2\": [55, 67, 78, 89], 4: (45,\n",
    "#22, 61, 34)}, [56, 'data science'], 'Machine Learning']\n",
    "\n",
    "\n",
    "l = []\n",
    "finallist = []\n",
    "result = 1\n",
    "def traverse(x, tree_types=(list, tuple, set, dict)):\n",
    "    global l\n",
    "    if isinstance(x, tree_types):\n",
    "        for item in x:\n",
    "            if (type(item) != list and type(item) != tuple and type(item) != set and type(item) != dict): \n",
    "                #print(\"Item\", item)\n",
    "                l.append(item)\n",
    "            else : \n",
    "                if isinstance(item, tree_types):\n",
    "                    if type(item) == dict:\n",
    "                        for xkey,xvalue in item.items():\n",
    "                            if type(xkey) == int:\n",
    "                                #print(xkey)\n",
    "                                l.append(xkey)\n",
    "        \n",
    "                            if type(xvalue) == int:\n",
    "                                #print(xvalue)\n",
    "                                l.append(xvalue)\n",
    "        \n",
    "                            else : \n",
    "                                for newitem in xvalue:\n",
    "                                    #print(newitem)\n",
    "                                    l.append(newitem)\n",
    "\n",
    "                    else: \n",
    "                        for j in item:\n",
    "                            #print(\"J\", j)\n",
    "                            l.append(j)\n",
    "    else:\n",
    "        None\n",
    "        \n",
    "        #print(\"Else\")\n",
    "\n",
    "    \n",
    "    #print(l)\n",
    "\n",
    "    for listitem in l:\n",
    "        if type(listitem) == int:\n",
    "            finallist.append(listitem)\n",
    "    global result \n",
    "    for items in finallist: \n",
    "        result = result * items \n",
    "\n",
    "\n",
    "        \n",
    "data = [1,2,3,4, [44,55,66, True], False, (34,56,78,89,34), {1,2,3,3,2,1}, {1:34, \"key2\": [55, 67, 78, 89], 4: (45,\n",
    "22, 61, 34)}, [56, 'data science'], 'Machine Learning']\n",
    "traverse(data)\n",
    "\n",
    "print(\"Final List that contains only integer from given list \", finallist)\n",
    "#print(\"hello\")\n",
    "print(\"Product of all numbers of finallist \", result)\n",
    "\n"
   ]
  },
  {
   "cell_type": "code",
   "execution_count": 64,
   "id": "2450eeb9-930a-4af3-8c6a-20d6168f7330",
   "metadata": {},
   "outputs": [
    {
     "name": "stdout",
     "output_type": "stream",
     "text": [
      "Encrypted Message  r$dzmg$gl$yvxlnv$z$wzgz$hxrvmgrhg.\n"
     ]
    }
   ],
   "source": [
    "# Q2. Write a python program for encrypting a message sent to you by your friend. The logic of encryption \n",
    "# should be such that, for a the output should be z. For b, the output should be y. For c, the output should\n",
    "# be x respectively. Also, the whitespace should be replaced with a dollar sign. Keep the punctuation marks unchanged.\n",
    "\n",
    "#Input Sentence: I want to become a Data Scientist.\n",
    "#Encrypt the above input sentence using the program you just created.\n",
    "#Note: Convert the given input sentence into lowercase before encrypting. The final output should be\n",
    "#lowercase.\n",
    "#import string\n",
    "strresult = [] \n",
    "finalresult = []\n",
    "def msgencryption(x):\n",
    "    global strresult\n",
    "    y = x.lower()\n",
    "    \n",
    "    for item in y:\n",
    "        if item in string.punctuation:\n",
    "            #print(\"Item \", item)\n",
    "            strresult.append(item)\n",
    "             \n",
    "        elif item == ' ':\n",
    "            item = '$'\n",
    "            strresult.append(item)\n",
    "        else: \n",
    "            #print(item)\n",
    "            #print(ord(item))\n",
    "            encmsg = (122-ord(item)+ 97)\n",
    "            encchar = chr(encmsg)\n",
    "            #print(encmsg)    \n",
    "            #print(encchar)    \n",
    "            strresult.append(encchar)\n",
    "\n",
    "    #print(strresult)\n",
    "    global finalresult\n",
    "    finalresult = \"\".join(strresult)\n",
    "msgencryption('I want to become a Data Scientist.')    \n",
    "print(\"Encrypted Message \", finalresult)\n"
   ]
  },
  {
   "cell_type": "code",
   "execution_count": 61,
   "id": "284d5d7b-32c4-4405-8b7d-6bd1c56fd215",
   "metadata": {},
   "outputs": [
    {
     "name": "stdout",
     "output_type": "stream",
     "text": [
      "Item  !\n"
     ]
    }
   ],
   "source": [
    "import string\n",
    "spcl = ['!']\n",
    "for item in spcl:\n",
    "        if item in string.punctuation:\n",
    "        #   strresult.append(item)\n",
    "            print(\"Item \", item)\n",
    "        else:\n",
    "            print(\"NOT\", item)"
   ]
  },
  {
   "cell_type": "code",
   "execution_count": null,
   "id": "b97c0428-0fe9-41e7-a906-596a1b05b2b6",
   "metadata": {},
   "outputs": [],
   "source": []
  }
 ],
 "metadata": {
  "kernelspec": {
   "display_name": "Python 3 (ipykernel)",
   "language": "python",
   "name": "python3"
  },
  "language_info": {
   "codemirror_mode": {
    "name": "ipython",
    "version": 3
   },
   "file_extension": ".py",
   "mimetype": "text/x-python",
   "name": "python",
   "nbconvert_exporter": "python",
   "pygments_lexer": "ipython3",
   "version": "3.10.8"
  }
 },
 "nbformat": 4,
 "nbformat_minor": 5
}
