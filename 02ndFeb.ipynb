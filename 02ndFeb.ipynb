{
 "cells": [
  {
   "cell_type": "code",
   "execution_count": null,
   "id": "a16a7e18-873d-484c-9df2-2ab8becee3ad",
   "metadata": {},
   "outputs": [],
   "source": [
    "# Explain with an example when to use a for loop and a while loop.\n",
    "- We should use a for loop when we know the loop should execute n times.\n",
    "x= [1,2,3,4,5] \n",
    "for item in x: \n",
    "    print(item)\n",
    "\n",
    "- We should use a while loop when asking for user input.\n",
    "no = int(input(\"Enter your age\"))\n",
    "while no>=18:\n",
    "    print(\"You are eligible for making decision\")\n",
    "    break\n"
   ]
  },
  {
   "cell_type": "code",
   "execution_count": 16,
   "id": "df0464af-e358-4d40-839b-bdc63be87338",
   "metadata": {},
   "outputs": [
    {
     "name": "stdout",
     "output_type": "stream",
     "text": [
      "55\n",
      "3628800\n",
      "55\n",
      "3628800\n"
     ]
    }
   ],
   "source": [
    "#  Write a python program to print the sum and product of the first 10 natural numbers using while loop\n",
    "x=1\n",
    "sumresult = 0\n",
    "prodresult = 1\n",
    "\n",
    "while x<11:\n",
    "    sumresult = x + sumresult\n",
    "    prodresult = x * prodresult \n",
    "    x = x+ 1\n",
    "print(sumresult)\n",
    "print(prodresult)\n",
    "\n",
    "\n",
    "# Using for loop.\n",
    "y = 1\n",
    "sresult = 0 \n",
    "presult = 1\n",
    "\n",
    "for item in range(1,11): \n",
    "    sresult = sresult + item\n",
    "    presult = presult * item\n",
    "    \n",
    "print(sresult)\n",
    "print(presult)\n"
   ]
  },
  {
   "cell_type": "code",
   "execution_count": 40,
   "id": "ead892bd-1594-41de-b23e-f57415953177",
   "metadata": {},
   "outputs": [
    {
     "name": "stdin",
     "output_type": "stream",
     "text": [
      "Enter your electricity unit consume in a month 310\n"
     ]
    },
    {
     "name": "stdout",
     "output_type": "stream",
     "text": [
      "2250.0\n"
     ]
    }
   ],
   "source": [
    "# Create a python program to compute the electricity bill for a household.\n",
    "unitconsume = int(input(\"Enter your electricity unit consume in a month\"))\n",
    "electricitybill = 0\n",
    "if unitconsume > 0 and unitconsume<=100: \n",
    "    electricitybill = 4.5 * unitconsume;\n",
    "elif unitconsume > 100 and unitconsume<=200: \n",
    "    electricitybill = (4.5 * 100) + (6 * (unitconsume-100));\n",
    "elif unitconsume > 200 and unitconsume<=300: \n",
    "    electricitybill = (4.5 * 100) + (6 * 100) + (10 * (unitconsume-200));\n",
    "else: \n",
    "    electricitybill = (4.5 * 100) + (6 * 100) + (10 * 100) + (20 * (unitconsume-300));\n",
    "\n",
    "print(electricitybill)\n"
   ]
  },
  {
   "cell_type": "code",
   "execution_count": 105,
   "id": "8a82c290-f3b6-4367-ad4f-908de0768908",
   "metadata": {},
   "outputs": [
    {
     "name": "stdout",
     "output_type": "stream",
     "text": [
      "[8, 64, 125, 216, 512, 1000, 1728, 2744, 3375, 4096, 5832, 8000, 10648, 13824, 15625, 17576, 21952, 27000, 32768, 39304, 42875, 46656, 54872, 64000, 74088, 85184, 91125, 97336, 110592, 125000, 140608, 157464, 166375, 175616, 195112, 216000, 238328, 262144, 274625, 287496, 314432, 343000, 373248, 405224, 421875, 438976, 474552, 512000, 551368, 592704, 614125, 636056, 681472, 729000, 778688, 830584, 857375, 884736, 941192, 1000000]\n",
      "[8, 64, 125, 216, 512, 1000, 1728, 2744, 3375, 4096, 5832, 8000, 10648, 13824, 15625, 17576, 21952, 27000, 32768, 39304, 42875, 46656, 54872, 64000, 74088, 85184, 91125, 97336, 110592, 125000, 140608, 157464, 166375, 175616, 195112, 216000, 238328, 262144, 274625, 287496, 314432, 343000, 373248, 405224, 421875, 438976, 474552, 512000, 551368, 592704, 614125, 636056, 681472, 729000, 778688, 830584, 857375, 884736, 941192, 1000000]\n"
     ]
    }
   ],
   "source": [
    "# Create a list of numbers from 1 to 100. Use for loop and while loop to calculate the cube of each\n",
    "#number and if the cube of that number is divisible by 4 or 5 then append that number in a list and print\n",
    "#that list.\n",
    "\n",
    "# Using while loop \n",
    "x= 0\n",
    "l = []\n",
    "for item in range(1,101):\n",
    "    l.append(item)\n",
    "    \n",
    "l2 = []\n",
    "cube = 1\n",
    "\n",
    "while x<100:\n",
    "    cube = l[x]*l[x]*l[x]\n",
    "    if cube%4 == 0 or cube%5 == 0:\n",
    "        l2.append(cube)\n",
    "    \n",
    "    x = x + 1\n",
    "print(l2)\n",
    "\n",
    "\n",
    "# Using for loop \n",
    "x= 0\n",
    "l = []\n",
    "for item in range(1,101):\n",
    "    l.append(item)\n",
    "    \n",
    "l2 = []\n",
    "cube = 1\n",
    "\n",
    "for no in range(1,100):\n",
    "    cube = l[no]*l[no]*l[no]\n",
    "    if cube%4 == 0 or cube%5 == 0:\n",
    "        l2.append(cube)\n",
    "    \n",
    "    x = x + 1\n",
    "print(l2)\n"
   ]
  },
  {
   "cell_type": "code",
   "execution_count": 115,
   "id": "984b3233-3b51-480b-bf69-7f287da75182",
   "metadata": {},
   "outputs": [
    {
     "name": "stdout",
     "output_type": "stream",
     "text": [
      "Vowel List  ['a', 'o', 'e', 'o', 'e', 'a', 'a', 'a', 'i', 'e', 'i']\n",
      "Total Vowel founds 12\n"
     ]
    }
   ],
   "source": [
    "# Write a program to filter count vowels in the below-given string. string = \"I want to become a data scientist\"\n",
    "\n",
    "string = \"I want to become a data scientist\"\n",
    "vowel = ['a','e','i','o','u']\n",
    "l2 = []\n",
    "vowelcount = 1\n",
    "for item in string : \n",
    "    for items in vowel :\n",
    "        if item == items :\n",
    "            l2.append(item)\n",
    "            vowelcount = vowelcount + 1\n",
    "\n",
    "print(\"Vowel List \", l2)            \n",
    "print(\"Total Vowel founds\" , vowelcount)\n",
    "        "
   ]
  },
  {
   "cell_type": "code",
   "execution_count": null,
   "id": "80151051-43d6-4710-8795-66d6b01a186d",
   "metadata": {},
   "outputs": [],
   "source": []
  },
  {
   "cell_type": "code",
   "execution_count": null,
   "id": "58d6a788-d817-4ca2-8271-f84f8cb8fb1b",
   "metadata": {},
   "outputs": [],
   "source": []
  }
 ],
 "metadata": {
  "kernelspec": {
   "display_name": "Python 3 (ipykernel)",
   "language": "python",
   "name": "python3"
  },
  "language_info": {
   "codemirror_mode": {
    "name": "ipython",
    "version": 3
   },
   "file_extension": ".py",
   "mimetype": "text/x-python",
   "name": "python",
   "nbconvert_exporter": "python",
   "pygments_lexer": "ipython3",
   "version": "3.10.8"
  }
 },
 "nbformat": 4,
 "nbformat_minor": 5
}
