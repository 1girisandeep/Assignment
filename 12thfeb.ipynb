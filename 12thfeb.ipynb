{
 "cells": [
  {
   "cell_type": "code",
   "execution_count": null,
   "id": "214645f7-28af-4cc6-a067-aac6148ffe63",
   "metadata": {},
   "outputs": [],
   "source": [
    "# What is an Exception in python? \n",
    "- An exception is an event, which occurs during the execution of a program that disrupts the normal flow of the programs. \n",
    "In general, when a Python script encounters a situation that it cannot cope with, it raises an exception. \n",
    "\n",
    "\n",
    "# Write the difference between Exceptions and Syntax Error \n",
    "- Both exceptions and syntax error are a type of runtime error, which means they occur during the execution of a program. \n",
    "In simple words, the error is a critical issue that a normal application should not catch, while an exception is a condition \n",
    "that a program should catch."
   ]
  },
  {
   "cell_type": "code",
   "execution_count": 2,
   "id": "37b22f3a-a32e-41d4-a1fa-fa0a26ed0606",
   "metadata": {},
   "outputs": [
    {
     "name": "stdout",
     "output_type": "stream",
     "text": [
      "Goodbye, world!\n"
     ]
    },
    {
     "ename": "KeyboardInterrupt",
     "evalue": "",
     "output_type": "error",
     "traceback": [
      "\u001b[0;31m---------------------------------------------------------------------------\u001b[0m",
      "\u001b[0;31mKeyboardInterrupt\u001b[0m                         Traceback (most recent call last)",
      "Cell \u001b[0;32mIn[2], line 6\u001b[0m\n\u001b[1;32m      2\u001b[0m \u001b[38;5;124;03m'''If an exception occurs during execution of the try clause, the exception may be handled by an except clause. \u001b[39;00m\n\u001b[1;32m      3\u001b[0m \u001b[38;5;124;03mIf the exception is not handled by an except clause, the exception is re-raised after the finally clause has been executed.\u001b[39;00m\n\u001b[1;32m      4\u001b[0m \u001b[38;5;124;03m'''\u001b[39;00m\n\u001b[1;32m      5\u001b[0m \u001b[38;5;28;01mtry\u001b[39;00m:\n\u001b[0;32m----> 6\u001b[0m     \u001b[38;5;28;01mraise\u001b[39;00m \u001b[38;5;167;01mKeyboardInterrupt\u001b[39;00m\n\u001b[1;32m      7\u001b[0m \u001b[38;5;28;01mfinally\u001b[39;00m:\n\u001b[1;32m      8\u001b[0m     \u001b[38;5;28mprint\u001b[39m(\u001b[38;5;124m'\u001b[39m\u001b[38;5;124mGoodbye, world!\u001b[39m\u001b[38;5;124m'\u001b[39m)\n",
      "\u001b[0;31mKeyboardInterrupt\u001b[0m: "
     ]
    }
   ],
   "source": [
    "# What happens when an exception is not handled? Explain with an example\n",
    "- If an exception occurs during execution of the try clause, the exception may be handled by an except clause. \n",
    "If the exception is not handled by an except clause, the exception is re-raised after the finally clause has been executed.\n",
    "\n",
    "try:\n",
    "    raise KeyboardInterrupt\n",
    "finally:\n",
    "    print('Goodbye, world!')\n"
   ]
  },
  {
   "cell_type": "code",
   "execution_count": 4,
   "id": "1f65e39c-aa66-46a6-8c48-dedabe6e1388",
   "metadata": {},
   "outputs": [],
   "source": [
    "# Which Python statements are used to catch and handle exceptions? Explain with an example \n",
    "# try and except statement is used to handle exceptions \n",
    "\n",
    "import logging\n",
    "logging.basicConfig(filename=\"error.log\", level = logging.DEBUG)\n",
    "\n",
    "try: \n",
    "    a=10/0\n",
    "except ZeroDivisionError as e: \n",
    "    logging.error(\"Error Message {}\". format(e))\n"
   ]
  },
  {
   "cell_type": "code",
   "execution_count": 18,
   "id": "3faf7593-d331-4811-962d-c89f4c58f8d6",
   "metadata": {},
   "outputs": [
    {
     "ename": "Exception",
     "evalue": "Sorry no number below 0",
     "output_type": "error",
     "traceback": [
      "\u001b[0;31m---------------------------------------------------------------------------\u001b[0m",
      "\u001b[0;31mException\u001b[0m                                 Traceback (most recent call last)",
      "Cell \u001b[0;32mIn[18], line 36\u001b[0m\n\u001b[1;32m     34\u001b[0m x\u001b[38;5;241m=\u001b[39m \u001b[38;5;241m-\u001b[39m\u001b[38;5;241m2\u001b[39m \n\u001b[1;32m     35\u001b[0m \u001b[38;5;28;01mif\u001b[39;00m x\u001b[38;5;241m<\u001b[39m\u001b[38;5;241m0\u001b[39m : \n\u001b[0;32m---> 36\u001b[0m     \u001b[38;5;28;01mraise\u001b[39;00m \u001b[38;5;167;01mException\u001b[39;00m(\u001b[38;5;124m\"\u001b[39m\u001b[38;5;124mSorry no number below 0\u001b[39m\u001b[38;5;124m\"\u001b[39m)\n",
      "\u001b[0;31mException\u001b[0m: Sorry no number below 0"
     ]
    }
   ],
   "source": [
    "# Explain with an example \n",
    "# i) try and else : try and else is a set of block in exception handling where else block is executed when try block \n",
    "# executed successfilly\n",
    "\n",
    "try : \n",
    "    import logging\n",
    "    logging.basicConfig(filename=\"error.log\", level=logging.DEBUG)\n",
    "    a = 10/2 \n",
    "\n",
    "except ZeroDivisionError as e : \n",
    "    logging.error(\"Error Message {}\" .format(e))\n",
    "else:\n",
    "    logging.error(\"This is our else block It is executed when try block executed successfully\")\n",
    "    \n",
    "# ii) finally : It is always executed. It is independant of try and except block execution\n",
    "\n",
    "try : \n",
    "    import logging\n",
    "    logging.basicConfig(filename=\"error.log\", level = logging.DEBUG)\n",
    "    with open(\"sampletext.txt\", 'r') as f: \n",
    "        f.read()\n",
    "        \n",
    "        \n",
    "except FileNotFoundError as e : \n",
    "    logging.error(\"File Not Found {}\" . format(e))\n",
    "\n",
    "    \n",
    "finally : \n",
    "    logging.error(\"This is always executed\")\n",
    "    \n",
    "    \n",
    "    \n",
    "# iii) raise : The raise keyword is used to raise an exception \n",
    "x= -2 \n",
    "if x<0 : \n",
    "    raise Exception(\"Sorry no number below 0\")\n",
    "    \n",
    "\n"
   ]
  },
  {
   "cell_type": "code",
   "execution_count": 19,
   "id": "676fb2f5-8b6a-47ac-a8f3-e252d9843e11",
   "metadata": {},
   "outputs": [
    {
     "name": "stdout",
     "output_type": "stream",
     "text": [
      "division by zero\n"
     ]
    }
   ],
   "source": [
    "try : \n",
    "    a = 10/0 \n",
    "\n",
    "except ZeroDivisionError as e : \n",
    "   print(e)\n",
    "else:\n",
    "    print(\"This is our else block It is executed when try block executed successfully\")"
   ]
  },
  {
   "cell_type": "code",
   "execution_count": 22,
   "id": "b3f20475-324f-4254-93bf-e60d90d814b6",
   "metadata": {},
   "outputs": [
    {
     "name": "stdin",
     "output_type": "stream",
     "text": [
      "Enter your age 15\n"
     ]
    },
    {
     "name": "stdout",
     "output_type": "stream",
     "text": [
      "Not Eligible\n"
     ]
    }
   ],
   "source": [
    "# What are Custom Exceptions in python? \n",
    "- Custom Exception are user define exception \n",
    "\n",
    "# Why do we need Custom Exceptions? Explain with an example ?\n",
    "- Sometimes we may need to create our own exceptions that is serve using Custom Exceptions\n",
    "\n",
    "class InvalidAge(Exception):\n",
    "    pass \n",
    "\n",
    "try: \n",
    "    \n",
    "    age = int(input(\"Enter your age\"))\n",
    "    \n",
    "    if age >= 18 :\n",
    "        print(\"Eligible to Vote\")\n",
    "        \n",
    "    else : \n",
    "        raise InvalidAge\n",
    "        \n",
    "        \n",
    "        \n",
    "except InvalidAge as e : \n",
    "    print(\"Not Eligible\")"
   ]
  },
  {
   "cell_type": "code",
   "execution_count": null,
   "id": "6a218bf2-57e2-498b-ba0c-1b8f650a0f09",
   "metadata": {},
   "outputs": [],
   "source": [
    "# Create custom exception class. Use this class to handle an exception.\n",
    "\n",
    "\n",
    "class InvalidSal(Exception):\n",
    "    pass \n",
    "\n",
    "try: \n",
    "    \n",
    "    sal = int(input(\"Enter your salary\"))\n",
    "    \n",
    "    if sal > 5000 :\n",
    "        print(\"Valid Salary\")\n",
    "        \n",
    "    else : \n",
    "        raise InvalidSal\n",
    "        \n",
    "        \n",
    "        \n",
    "except InvalidSal as e : \n",
    "    print(\"InValid Salary\")"
   ]
  },
  {
   "cell_type": "code",
   "execution_count": null,
   "id": "4e8e390e-10f4-40e6-b5d9-806b7785a32c",
   "metadata": {},
   "outputs": [],
   "source": []
  },
  {
   "cell_type": "code",
   "execution_count": null,
   "id": "b4d9bcf4-9853-4427-99b3-3d7bc80d0cd8",
   "metadata": {},
   "outputs": [],
   "source": []
  }
 ],
 "metadata": {
  "kernelspec": {
   "display_name": "Python 3 (ipykernel)",
   "language": "python",
   "name": "python3"
  },
  "language_info": {
   "codemirror_mode": {
    "name": "ipython",
    "version": 3
   },
   "file_extension": ".py",
   "mimetype": "text/x-python",
   "name": "python",
   "nbconvert_exporter": "python",
   "pygments_lexer": "ipython3",
   "version": "3.10.8"
  }
 },
 "nbformat": 4,
 "nbformat_minor": 5
}
