{
 "cells": [
  {
   "cell_type": "code",
   "execution_count": null,
   "id": "894b8599-8fc1-48db-99fe-b980442f68d3",
   "metadata": {},
   "outputs": [],
   "source": [
    "# What is a database? \n",
    "- A database is a collection of information typically stored in a computer system.  \n",
    "\n",
    "#Differentiate between SQL and NoSQL databases.\n",
    "- SQL stands for Structure Query language where as NoSQL stands for Not Only Structure Query language \n",
    "SQL is used for structured data like name, mobile etc where as NoSQL is used for unstructure data like image \n",
    "text video etc "
   ]
  },
  {
   "cell_type": "code",
   "execution_count": null,
   "id": "911e381f-5e6e-4586-bb3d-4e39fe6a142f",
   "metadata": {},
   "outputs": [],
   "source": [
    "# What is DDL? \n",
    "- DDL Stands for Data Definition Language. It is used to create and modify the structure of database\n",
    "\n",
    "# Explain why CREATE, DROP, ALTER, and TRUNCATE are used with an example.\n",
    "- Create : Create is used to create table or database \n",
    "\n",
    "#eg\n",
    "Create Database if not exists testdb \n",
    "Create table if not exists employee (id int, name varchar(50), sal int)\n",
    "\n",
    "- Drop : Drop command is used to Drop database or table. Drop command delete all things (structure, record etc)\n",
    "\n",
    "#eg \n",
    "DROP Database testdb \n",
    "Drop Table employee \n",
    "\n",
    "- Truncate : Truncate command is used to delete record from the table \n",
    "\n",
    "#eg \n",
    "Truncate Table employee \n",
    "\n",
    "- Alter : Alter is used to add, delete or modify column in database\n",
    "\n",
    "#eg \n",
    "Alter table employee add Dept varchar  \n"
   ]
  },
  {
   "cell_type": "code",
   "execution_count": null,
   "id": "1f832830-a3d9-4f50-b9f9-67008cd4f5db",
   "metadata": {},
   "outputs": [],
   "source": [
    "# What is DML? \n",
    "- DML stands for Data Manipulation Language. It is used to insert, update and delete records in a table \n",
    "\n",
    "\n",
    "# Explain INSERT, UPDATE, and DELETE with an example.\n",
    "- Insert : Insert is used to insert data in a table \n",
    "Insert into employee values (1, 'sandeep', 500000, 'web')\n",
    "\n",
    "- Update : Update is used to update the record in a table \n",
    "Update employee set id = 2 where id = 1\n",
    "\n",
    "- delete : Delete is used to delete the record in a table \n",
    "delete from employee where id = 1\n",
    "\n"
   ]
  },
  {
   "cell_type": "code",
   "execution_count": null,
   "id": "b2e797a3-8633-4f84-9105-bbaf13283b6f",
   "metadata": {},
   "outputs": [],
   "source": [
    "# What is DQL? \n",
    "- DQL stands for Data Query language . It is used to get data from a database\n",
    "\n",
    "# Explain SELECT with an example.\n",
    "- Select is used to select column from a table \n",
    "\n",
    "#eg\n",
    "Select id, dept from employee \n"
   ]
  },
  {
   "cell_type": "code",
   "execution_count": null,
   "id": "967d8952-48a7-4537-8e04-f4b542e3da42",
   "metadata": {},
   "outputs": [],
   "source": [
    "# Explain Primary Key and Foreign Key.\n",
    "- Primary Key : A Primary Key is a column or group of column that uniquely identifies the row data\n",
    "\n",
    "- Foreign Key : A foreign key is a column or group of column that is used to establish link between two column"
   ]
  },
  {
   "cell_type": "code",
   "execution_count": null,
   "id": "dc6598f2-5c8e-4569-905f-390284fe007c",
   "metadata": {},
   "outputs": [],
   "source": [
    "# Write a python code to connect MySQL to python. \n",
    "import mysql.connector\n",
    "\n",
    "mydb = mysql.connector.connect(\n",
    "    host='localhost',\n",
    "    user='abc',\n",
    "    password='password'\n",
    "    \n",
    ")\n",
    "\n",
    "mycursor = mydb.cursor()\n",
    "\n",
    "\n",
    "# Explain the cursor() and execute() method.\n",
    "- Cursor() : cursor method is used to highlight the row \n",
    "import mysql.connector\n",
    "mydb = mysql.connector.connect(\n",
    "    host = 'localhost',\n",
    "    user = 'abc',\n",
    "    password = 'password'\n",
    "\n",
    ")\n",
    "mycursor = mydb.cursor()\n",
    "\n",
    "\n",
    "-execute() : execute method is used to execute sql query in python \n",
    "mycursor = mydb.cursor()\n",
    "mycursor.execute(\"Create Database if not exists testdb\")\n"
   ]
  }
 ],
 "metadata": {
  "kernelspec": {
   "display_name": "Python 3 (ipykernel)",
   "language": "python",
   "name": "python3"
  },
  "language_info": {
   "codemirror_mode": {
    "name": "ipython",
    "version": 3
   },
   "file_extension": ".py",
   "mimetype": "text/x-python",
   "name": "python",
   "nbconvert_exporter": "python",
   "pygments_lexer": "ipython3",
   "version": "3.10.8"
  }
 },
 "nbformat": 4,
 "nbformat_minor": 5
}
