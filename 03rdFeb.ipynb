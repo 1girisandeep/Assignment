{
 "cells": [
  {
   "cell_type": "code",
   "execution_count": 19,
   "id": "bacc5eea-1834-4380-a554-26e32194cc38",
   "metadata": {},
   "outputs": [
    {
     "name": "stdout",
     "output_type": "stream",
     "text": [
      "[1, 2, 3, 4, 5, 6, 7, 8, 9, 10, 11, 12, 13, 14, 15, 16, 17, 18, 19, 20, 21, 22, 23, 24, 25]\n",
      "[1, 3, 5, 7, 9, 11, 13, 15, 17, 19, 21, 23, 25]\n"
     ]
    }
   ],
   "source": [
    "# Which keyword is used to create a function? Create a function to return a list of odd numbers in the\n",
    "#range of 1 to 25.\n",
    "\n",
    "- def keyword is used to create a function \n",
    "l = []\n",
    "l2 = []\n",
    "for item in range(1,26):\n",
    "    l.append(item)\n",
    "\n",
    "def oddnumber(userlist): \n",
    "    \"\"\"This function is used to find odd number from a list\"\"\"\n",
    "    for item in userlist: \n",
    "        if item % 2 == 1: \n",
    "            l2.append(item)\n",
    "oddnumber(l)\n",
    "print(l)\n",
    "print(l2)\n"
   ]
  },
  {
   "cell_type": "code",
   "execution_count": 23,
   "id": "dfe3c6ee-1573-43d2-9929-645e44e5c559",
   "metadata": {},
   "outputs": [
    {
     "data": {
      "text/plain": [
       "{'apple': 5, 'mango': 7, 'banana': 10}"
      ]
     },
     "execution_count": 23,
     "metadata": {},
     "output_type": "execute_result"
    }
   ],
   "source": [
    "# Why *args and **kwargs is used in some functions? Create a function each for *args and **kwargs\n",
    "# to demonstrate their use.\n",
    "\n",
    "- When we didn't know the number of argument passed in function then we used *args whereas **kwargs is used to take argument in\n",
    "key value pair\n",
    "eg of *args: \n",
    "def favsport(*args):\n",
    "    \"\"\"This function takes user favorite sport and print it\"\"\"\n",
    "    return \"My favorite Sports are\", args\n",
    "\n",
    "favsport(\"Cricket\", \"Chess\", \"Badminton\")\n",
    "\n",
    "eg of **kwargs:\n",
    "def fruits(**kwargs):\n",
    "    \"\"\"This function takes fruits and there qty from user and display it\"\"\"\n",
    "    return kwargs\n",
    "\n",
    "fruits(apple = 5, mango = 7, banana = 10)   \n",
    "            "
   ]
  },
  {
   "cell_type": "code",
   "execution_count": null,
   "id": "44399858-4424-4aad-9b1a-b5eea4c8f502",
   "metadata": {},
   "outputs": [],
   "source": [
    "# What is an iterator in python?\n",
    "- Iterable are those object which contain next method eg string, list etc\n",
    "\n",
    "# Name the method used to initialise the iterator object and the method used for iteration.\n",
    "- __next__() method is used for iteration \n",
    "\n",
    "# Use these methods to print the first five elements of the given list [2, 4, 6, 8, 10, 12, 14, 16, 18, 20].\n",
    "i=1\n",
    "l=[2, 4, 6, 8, 10, 12, 14,16, 18, 20]\n",
    "listitem = []\n",
    "iobj = l.__iter__()\n",
    "while i<6:\n",
    "    listitem.append(iobj.__next__())\n",
    "    i = i+1\n",
    "\n",
    "\n",
    "print(listitem)\n"
   ]
  },
  {
   "cell_type": "code",
   "execution_count": 19,
   "id": "ef82c300-51cb-43fb-99c4-41deabdb2d4b",
   "metadata": {},
   "outputs": [
    {
     "name": "stdout",
     "output_type": "stream",
     "text": [
      "a\n",
      "b\n",
      "c\n"
     ]
    }
   ],
   "source": [
    "# What is a generator function in python? ? \n",
    "- If the body of the function contains yield keyword then the function automatically becomes generator function \n",
    "\n",
    "# Why yield keyword is used ? \n",
    "- Yield keyword is used to create generator function \n",
    "\n",
    "# Give an example of a generator function.\n",
    "def simplegenerator():\n",
    "    yield 'a'\n",
    "    yield 'b'\n",
    "    yield 'c'\n",
    "\n",
    "for item in simplegenerator():\n",
    "    print(item)\n"
   ]
  },
  {
   "cell_type": "code",
   "execution_count": 18,
   "id": "2ef12b9f-a8a3-45d8-b61d-375148eb5de4",
   "metadata": {},
   "outputs": [
    {
     "name": "stdout",
     "output_type": "stream",
     "text": [
      "a\n",
      "b\n",
      "c\n"
     ]
    }
   ],
   "source": [
    "def simplegenerator():\n",
    "    yield 'a'\n",
    "    yield 'b'\n",
    "    yield 'c'\n",
    "\n",
    "for item in simplegenerator():\n",
    "    print(item)\n",
    "    "
   ]
  },
  {
   "cell_type": "code",
   "execution_count": 1,
   "id": "4e86496d-980d-43ab-ad59-01c3ed230e4d",
   "metadata": {},
   "outputs": [
    {
     "name": "stdout",
     "output_type": "stream",
     "text": [
      "2\n",
      "3\n",
      "5\n",
      "7\n"
     ]
    }
   ],
   "source": [
    "# Create a generator function for prime numbers less than 1000. Use the next() method to print the\n",
    "# first 20 prime numbers.\n",
    "\n",
    "def primenumber():\n",
    "    l2=[]\n",
    "    for i in range(2,1001):\n",
    "        for j in range(2,1001):\n",
    "            if i%j==0:\n",
    "                break\n",
    "        if i == j:\n",
    "            yield i\n",
    "for item in primenumber():\n",
    "    print(item)"
   ]
  },
  {
   "cell_type": "code",
   "execution_count": 11,
   "id": "d01981a0-351d-4395-bd9e-9d2852af2131",
   "metadata": {},
   "outputs": [
    {
     "name": "stdout",
     "output_type": "stream",
     "text": [
      "[0, 1, 1, 2, 3, 5, 8, 13, 21, 34]\n"
     ]
    }
   ],
   "source": [
    "# Write a python program to print the first 10 Fibonacci numbers using a while loop.\n",
    "a = 0 \n",
    "b = 1\n",
    "c = 0\n",
    "x = 1\n",
    "l= []\n",
    "while x < 11 : \n",
    "    l.append(a)\n",
    "    c=a+b\n",
    "    a=b\n",
    "    b=c\n",
    "    x=x+1\n",
    "print(l)"
   ]
  },
  {
   "cell_type": "code",
   "execution_count": 12,
   "id": "c3cb7c79-728e-49f4-b1c6-569f4707601c",
   "metadata": {},
   "outputs": [
    {
     "data": {
      "text/plain": [
       "['p', 'w', 's', 'k', 'i', 'l', 'l', 's']"
      ]
     },
     "execution_count": 12,
     "metadata": {},
     "output_type": "execute_result"
    }
   ],
   "source": [
    "# Write a List Comprehension to iterate through the given string: ‘pwskills’.\n",
    "# Expected output: ['p', 'w', 's', 'k', 'i', 'l', 'l', 's']\n",
    "txt = 'pwskills'\n",
    "[item for item in txt]"
   ]
  },
  {
   "cell_type": "code",
   "execution_count": 20,
   "id": "7e7dc1b2-5fa3-495d-80da-d4c8a330d854",
   "metadata": {},
   "outputs": [
    {
     "name": "stdin",
     "output_type": "stream",
     "text": [
      "Enter a number: 12321\n"
     ]
    },
    {
     "name": "stdout",
     "output_type": "stream",
     "text": [
      "The number is palindrome!\n"
     ]
    }
   ],
   "source": [
    "# Write a python program to check whether a given number is Palindrome or not using a while loop.\n",
    "num=int(input(\"Enter a number:\"))\n",
    "temp=num\n",
    "rev=0\n",
    "while(num>0):\n",
    "    dig=num%10\n",
    "    rev=rev*10+dig\n",
    "    num=num//10\n",
    "if(temp==rev):\n",
    "    print(\"The number is palindrome!\")\n",
    "else:\n",
    "    print(\"Not a palindrome!\")"
   ]
  },
  {
   "cell_type": "code",
   "execution_count": 24,
   "id": "5414e8a6-4788-4f3c-80f7-4b7886d80795",
   "metadata": {},
   "outputs": [
    {
     "name": "stdout",
     "output_type": "stream",
     "text": [
      "[1, 2, 3, 4, 5, 6, 7, 8, 9, 10, 11, 12, 13, 14, 15, 16, 17, 18, 19, 20, 21, 22, 23, 24, 25, 26, 27, 28, 29, 30, 31, 32, 33, 34, 35, 36, 37, 38, 39, 40, 41, 42, 43, 44, 45, 46, 47, 48, 49, 50, 51, 52, 53, 54, 55, 56, 57, 58, 59, 60, 61, 62, 63, 64, 65, 66, 67, 68, 69, 70, 71, 72, 73, 74, 75, 76, 77, 78, 79, 80, 81, 82, 83, 84, 85, 86, 87, 88, 89, 90, 91, 92, 93, 94, 95, 96, 97, 98, 99, 100]\n",
      "[1, 3, 5, 7, 9, 11, 13, 15, 17, 19, 21, 23, 25, 27, 29, 31, 33, 35, 37, 39, 41, 43, 45, 47, 49, 51, 53, 55, 57, 59, 61, 63, 65, 67, 69, 71, 73, 75, 77, 79, 81, 83, 85, 87, 89, 91, 93, 95, 97, 99]\n"
     ]
    }
   ],
   "source": [
    "# Write a code to print odd numbers from 1 to 100 using list comprehension.\n",
    "l=[]\n",
    "l2=[]\n",
    "\n",
    "[l.append(item) for item in range(1,101)]\n",
    "[l2.append(item) for item in l if item % 2 != 0]\n",
    "print(l)\n",
    "print(l2)"
   ]
  },
  {
   "cell_type": "code",
   "execution_count": null,
   "id": "8910abd6-7ac6-4af6-bcb0-7817fb95c5b3",
   "metadata": {},
   "outputs": [],
   "source": []
  },
  {
   "cell_type": "code",
   "execution_count": null,
   "id": "342f23ed-a644-43be-9b4c-a2414a158717",
   "metadata": {},
   "outputs": [],
   "source": []
  }
 ],
 "metadata": {
  "kernelspec": {
   "display_name": "Python 3 (ipykernel)",
   "language": "python",
   "name": "python3"
  },
  "language_info": {
   "codemirror_mode": {
    "name": "ipython",
    "version": 3
   },
   "file_extension": ".py",
   "mimetype": "text/x-python",
   "name": "python",
   "nbconvert_exporter": "python",
   "pygments_lexer": "ipython3",
   "version": "3.10.8"
  }
 },
 "nbformat": 4,
 "nbformat_minor": 5
}
