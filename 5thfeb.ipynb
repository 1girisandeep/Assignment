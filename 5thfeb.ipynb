{
 "cells": [
  {
   "cell_type": "code",
   "execution_count": 5,
   "id": "f8fad915-cac1-497f-b57b-155fdbc0385f",
   "metadata": {},
   "outputs": [
    {
     "data": {
      "text/plain": [
       "('Developer', 'Web')"
      ]
     },
     "execution_count": 5,
     "metadata": {},
     "output_type": "execute_result"
    }
   ],
   "source": [
    "# Explain Class and Object with respect to Object-Oriented Programming. Give a suitable example.\n",
    "# Class : Class is a template or blueprint which defines some properties and behaviors. \n",
    "\n",
    "class Uplers: \n",
    "    def __init__(self, role, dept):\n",
    "        self.role = role\n",
    "        self.dept = dept\n",
    "    \n",
    "    def showdetail(self):\n",
    "        return self.role, self.dept\n",
    "        \n",
    "\n",
    "# Object : Object is an instance of class \n",
    "\n",
    "sandeep = Uplers(\"Developer\", \"Web\")\n",
    "sandeep.showdetail()"
   ]
  },
  {
   "cell_type": "code",
   "execution_count": 9,
   "id": "193abf16-4ded-405f-add1-6af916aefcac",
   "metadata": {},
   "outputs": [],
   "source": [
    "# Name the four pillars of OOPs.\n",
    "# These principles are called the four pillars of object-oriented programming (OOP). These four pillars are Inheritance, Polymorphism, Encapsulation and Abstraction.\n"
   ]
  },
  {
   "cell_type": "code",
   "execution_count": 4,
   "id": "498ecd22-c59e-4782-a59f-14cc996c90b8",
   "metadata": {},
   "outputs": [
    {
     "data": {
      "text/plain": [
       "'New Delhi'"
      ]
     },
     "execution_count": 4,
     "metadata": {},
     "output_type": "execute_result"
    }
   ],
   "source": [
    "# Explain why the __init__() function is used. Give a suitable example.\n",
    "- The __init__ function is called every time an object is created from a class.\n",
    "\n",
    "class Employee: \n",
    "    def __init__(self, location):\n",
    "        self.location = location\n",
    "    \n",
    "    def showlocation(self):\n",
    "        return self.location\n",
    "    \n",
    "sandeep = Employee(\"New Delhi\")\n",
    "sandeep.showlocation()\n",
    "        \n"
   ]
  },
  {
   "cell_type": "code",
   "execution_count": 2,
   "id": "e1d67cff-f7c8-47b5-bb02-aebb702ad37d",
   "metadata": {},
   "outputs": [],
   "source": [
    "# Why self is used in OOPs?\n",
    "- Self is used to represent the instance of class in OOPS\n",
    "\n",
    "\n"
   ]
  },
  {
   "cell_type": "code",
   "execution_count": 17,
   "id": "0ce7f9ca-90dc-4d0d-849d-c2883b4427cb",
   "metadata": {},
   "outputs": [
    {
     "name": "stdout",
     "output_type": "stream",
     "text": [
      "He join uplers in 2020 and his position is Wordpress Developer\n",
      "He work in Python language\n"
     ]
    }
   ],
   "source": [
    "# What is inheritance? \n",
    "# The Capability of class to derive characteristic and properties of another class is called inheritance \n",
    "\n",
    "# Give an example for each type of inheritance.\n",
    "\n",
    "# Single Inheritance : \n",
    "class Uplers: \n",
    "    def __init__(self, upldept):\n",
    "        self.upldept = upldept \n",
    "        \n",
    "class Web(Uplers): \n",
    "    def empdetail(self):\n",
    "        print(f\"He join uplers in {self.detail[0]} and his position is {self.detail[1]}\")\n",
    "        \n",
    "department = Uplers([\"SEO\", \"SMO\",\"WEB\"])\n",
    "sandeep = Web(\"Python\")\n",
    "sandeep.detail = [2020, \"Wordpress Developer\"]\n",
    "sandeep.empdetail()\n",
    "\n",
    "# Multiple Inheritance :\n",
    "class Uplers : \n",
    "    def __init__(self, upldept):\n",
    "        self.upldept = upldept\n",
    "        \n",
    "class Web(Uplers): \n",
    "    def empdetail(self):\n",
    "        print(f\"He join uplers in {self.detail[0]} and his position is {self.detail[1]}\")\n",
    "\n",
    "class Employee(Web,Uplers): \n",
    "    def workinglang(self, lang): \n",
    "        print(f\"He work in {self.lang} language\")\n",
    "\n",
    "sandeep = Employee(\"web\")\n",
    "sandeep.lang = \"Python\"\n",
    "sandeep.workinglang(sandeep.lang)\n",
    "    \n",
    "# Multilevel Inheritance :\n",
    "class ElectronicDevice : \n",
    "    def batterycount(self, battery):\n",
    "        print(f\"No of battery require {self.battery}\")\n",
    "        \n",
    "class PocketGadget(ElectronicDevice): \n",
    "    def batterysize(self, batsize):\n",
    "        print(f\"The size of battery size is {self.batterysize} mAh\")\n",
    "\n",
    "class Phone(PocketGadget): \n",
    "    def batterylife(self, batthour): \n",
    "        print(f\"Phone battery can run upto {self.batthour} hour\")\n",
    "\n",
    "realme = Phone()\n",
    "realme. batsize = 5000\n",
    "realme. batthour = 8\n",
    "\n",
    "realme.batterysize(realme.batsize)\n",
    "realme.batterysize(realme.batsize)"
   ]
  },
  {
   "cell_type": "code",
   "execution_count": null,
   "id": "9f33ae35-dc70-4e22-bb6f-bf18961e2c84",
   "metadata": {},
   "outputs": [],
   "source": []
  },
  {
   "cell_type": "code",
   "execution_count": null,
   "id": "70790256-6e9c-4cc7-a656-afeab7427a87",
   "metadata": {},
   "outputs": [],
   "source": []
  },
  {
   "cell_type": "code",
   "execution_count": null,
   "id": "80605a8b-ab62-4970-b380-efee51907056",
   "metadata": {},
   "outputs": [],
   "source": []
  },
  {
   "cell_type": "code",
   "execution_count": null,
   "id": "240e7dad-ca49-420b-bc89-338f85ef9521",
   "metadata": {},
   "outputs": [],
   "source": []
  }
 ],
 "metadata": {
  "kernelspec": {
   "display_name": "Python 3 (ipykernel)",
   "language": "python",
   "name": "python3"
  },
  "language_info": {
   "codemirror_mode": {
    "name": "ipython",
    "version": 3
   },
   "file_extension": ".py",
   "mimetype": "text/x-python",
   "name": "python",
   "nbconvert_exporter": "python",
   "pygments_lexer": "ipython3",
   "version": "3.10.8"
  }
 },
 "nbformat": 4,
 "nbformat_minor": 5
}
