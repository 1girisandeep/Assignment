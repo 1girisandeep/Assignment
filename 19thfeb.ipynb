{
 "cells": [
  {
   "cell_type": "code",
   "execution_count": null,
   "id": "c58ea7fc-f8ec-42e4-bb7a-f5b3578b9da5",
   "metadata": {},
   "outputs": [],
   "source": [
    "# What is Flask Framework? \n",
    "- Flask is a micro framework offering all the basic feature of web applications\n",
    "\n",
    "# What are the advantages of Flask Framework?\n",
    "- Flexible, Easy to negotiate and Lightweight"
   ]
  },
  {
   "cell_type": "code",
   "execution_count": null,
   "id": "e87d5772-3e87-429d-a616-f13092b16805",
   "metadata": {},
   "outputs": [],
   "source": [
    "# Create a simple Flask application to display ‘Hello World!!’. Attach the screenshot of the output in Jupyter Notebook \n",
    "- Kindly find the screenshot https://prnt.sc/gsEyiTV0AJ2N"
   ]
  },
  {
   "cell_type": "code",
   "execution_count": null,
   "id": "5f0a95cb-231f-4ded-9a69-9d2015d66ff8",
   "metadata": {},
   "outputs": [],
   "source": [
    "# What is App routing in Flask? \n",
    "- App routing in flask is used to define the path of function that is intended to perform some function \n",
    "\n",
    "# Why do we use app routes? \n",
    "- It is used to define the path of function that is intended to perform some function\n"
   ]
  },
  {
   "cell_type": "code",
   "execution_count": null,
   "id": "06d9f4de-e792-4596-87f9-cfdbb46d0166",
   "metadata": {},
   "outputs": [],
   "source": [
    "# Create a “/welcome” route to display the welcome message “Welcome to ABC Corporation” \n",
    "- https://prnt.sc/_C3mRUnvVe0V\n",
    "\n",
    "\n",
    "# And a “/” route to show the following details: Company Name: ABC Corporation Location: India Contact Detail: 999-999-9999\n",
    "- https://prnt.sc/mmvkS7vFbHpz\n",
    "\n"
   ]
  },
  {
   "cell_type": "code",
   "execution_count": null,
   "id": "89738912-9d10-4a26-ac47-f6f770fc41f3",
   "metadata": {},
   "outputs": [],
   "source": [
    "# What function is used in Flask for URL Building? \n",
    "- url_for() is used in Flask for URL Building\n",
    "\n",
    "\n",
    "# Write a Python code to demonstrate the working of the url_for() function.\n",
    "from flask import Flask , redirect, url_for\n",
    "app = Flask(__name__)\n",
    "\n",
    "\n",
    "@app.route(\"/web\")\n",
    "def web():\n",
    "    return \"Welcome to Web Department\"\n",
    "\n",
    "@app.route(\"/seo\")\n",
    "def seo():\n",
    "    return \"Welcome to SEO Department\"\n",
    "\n",
    "\n",
    "@app.route(\"/dept/<name>\")\n",
    "def user(name):  \n",
    "    if name == 'web':  \n",
    "        return redirect(url_for('web'))  \n",
    "    if name == 'seo':  \n",
    "        return redirect(url_for('seo'))  \n",
    "\n",
    "\n",
    "\n",
    "if __name__ == \"__main__\":\n",
    "    app.run(host=\"0.0.0.0\")\n",
    "\n"
   ]
  }
 ],
 "metadata": {
  "kernelspec": {
   "display_name": "Python 3 (ipykernel)",
   "language": "python",
   "name": "python3"
  },
  "language_info": {
   "codemirror_mode": {
    "name": "ipython",
    "version": 3
   },
   "file_extension": ".py",
   "mimetype": "text/x-python",
   "name": "python",
   "nbconvert_exporter": "python",
   "pygments_lexer": "ipython3",
   "version": "3.10.8"
  }
 },
 "nbformat": 4,
 "nbformat_minor": 5
}
