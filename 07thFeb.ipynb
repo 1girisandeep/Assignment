{
 "cells": [
  {
   "cell_type": "code",
   "execution_count": 47,
   "id": "3ab62b87-0419-4854-aaed-2000fb8ec976",
   "metadata": {},
   "outputs": [
    {
     "name": "stdin",
     "output_type": "stream",
     "text": [
      "Enter your password SATISHgiri151%^&*\n"
     ]
    },
    {
     "name": "stdout",
     "output_type": "stream",
     "text": [
      "Valid Password\n"
     ]
    }
   ],
   "source": [
    "\"\"\"Q1. You are writing code for a company. The requirement of the company is that you create a python\n",
    "function that will check whether the password entered by the user is correct or not. The function should\n",
    "take the password as input and return the string “Valid Password” if the entered password follows the\n",
    "below-given password guidelines else it should return “Invalid Password”.\n",
    "Note: 1. The Password should contain at least two uppercase letters and at least two lowercase letters.\n",
    "2. The Password should contain at least a number and three special characters.\n",
    "3. The length of the password should be 10 characters long.\"\"\"\n",
    "\n",
    "import re\n",
    "lowercasecount = 0\n",
    "uppercasecount = 0\n",
    "numbercount = 0\n",
    "specialchar = 0\n",
    "\n",
    "def validatepswd(pswd):\n",
    "    if len(pswd) <=10:\n",
    "        print(\"Password Length should be greater than 10\")\n",
    "    else:\n",
    "        for item in pswd:\n",
    "            asciino = ord(item)\n",
    "            #print(asciino)\n",
    "            if asciino > 96 and asciino < 123: \n",
    "                global lowercasecount\n",
    "                lowercasecount += 1\n",
    "                #print(\"Lower Case \", lowercasecount)\n",
    "\n",
    "            elif asciino > 64 and asciino < 91: \n",
    "                global uppercasecount\n",
    "                uppercasecount += 1\n",
    "                #print(\"Uppercase \", uppercasecount)\n",
    "\n",
    "            elif (bool(re.match('^[a-zA-Z0-9]*$',item))==False): \n",
    "                global specialchar\n",
    "                specialchar += 1\n",
    "                #print(\"Specialchar \", specialchar)\n",
    "\n",
    "            else: \n",
    "                global numbercount\n",
    "                numbercount += 1\n",
    "                #print(\"Numbers \", numbercount)\n",
    "\n",
    "\n",
    "\n",
    "\n",
    "userpswd = input('Enter your password')\n",
    "validatepswd(userpswd)    \n",
    "\n",
    "\"\"\"print(\"Lower \", lowercasecount)\n",
    "print(\"Upper \", uppercasecount)\n",
    "print(\"Special \", specialchar)\n",
    "print(\"Numbers \", numbercount)\"\"\"\n",
    "\n",
    "if (lowercasecount > 2 and uppercasecount > 2 and specialchar > 3 and numbercount > 1): \n",
    "    print (\"Valid Password\")\n",
    "        \n",
    "else:\n",
    "    print (\"InValid Password\")\n",
    "        \n",
    "    "
   ]
  },
  {
   "cell_type": "code",
   "execution_count": 91,
   "id": "0eb9898c-b283-42d9-972e-d2451fa42e0b",
   "metadata": {},
   "outputs": [
    {
     "name": "stdout",
     "output_type": "stream",
     "text": [
      "[('grapes', 1000), ('mango', 99), ('orange', 80)]\n",
      "Square of number from 1 to 10 are listed below\n",
      "1\n",
      "4\n",
      "9\n",
      "16\n",
      "25\n",
      "36\n",
      "49\n",
      "64\n",
      "81\n",
      "100\n",
      "Cube root from 1 to 10 are listed below\n",
      "1\n",
      "8\n",
      "27\n",
      "64\n",
      "125\n",
      "216\n",
      "343\n",
      "512\n",
      "729\n",
      "1000\n"
     ]
    }
   ],
   "source": [
    "# Check if the string starts with a particular letter Y\n",
    "txt = lambda x : x if x == 'Y' else None\n",
    "txt('Y')\n",
    "\n",
    "# Check if the string is numeric \n",
    "#s=\"sandeep\"\n",
    "s = lambda x : \"Yes it is Numeric\" if x.isnumeric() else \"It is not numeric\"\n",
    "s('231s')\n",
    "\n",
    "# Sort a list of tuples having fruit names and their quantity. [(\"mango\",99),(\"orange\",80), (\"grapes\", 1000) \n",
    "fruits = [(\"mango\",99),(\"orange\",80), (\"grapes\", 1000)]\n",
    "\n",
    "frt = lambda x : x.sort()\n",
    "frt(fruits)\n",
    "print(fruits)\n",
    "\n",
    "# Find the squares of numbers from 1 to 10 \n",
    "nosq = lambda item : item**2\n",
    "print(\"Square of number from 1 to 10 are listed below\")\n",
    "for item in range(1,11):\n",
    "    print(nosq(item))\n",
    "    \n",
    "    \n",
    "# Find the cube root of numbers from 1 to 10Y\n",
    "cube = lambda x : x**3\n",
    "print(\"Cube root from 1 to 10 are listed below\")\n",
    "for cubeitem in range(1,11):\n",
    "    print(cube(cubeitem))"
   ]
  },
  {
   "cell_type": "code",
   "execution_count": 94,
   "id": "ff4f87f6-e901-4960-82fa-4b55b3c68d9f",
   "metadata": {},
   "outputs": [
    {
     "data": {
      "text/plain": [
       "'It is even number'"
      ]
     },
     "execution_count": 94,
     "metadata": {},
     "output_type": "execute_result"
    }
   ],
   "source": [
    "# Check if a given number is even \n",
    "\n",
    "evenno = lambda x : \"It is even number\" if x%2==0 else \"It is not a even no\"\n",
    "evenno(50)\n"
   ]
  },
  {
   "cell_type": "code",
   "execution_count": 122,
   "id": "4f7d4459-caae-4f78-a172-602e212d771a",
   "metadata": {},
   "outputs": [
    {
     "name": "stdout",
     "output_type": "stream",
     "text": [
      "[1, 3, 5, 7, 9]\n"
     ]
    }
   ],
   "source": [
    "# Filter odd numbers from the given list.\n",
    "l = [1,2,3,4,5,6,7,8,9,10]\n",
    "filterlist = []\n",
    "oddno = lambda x : x if x%2!=0 else None\n",
    "for item in l:\n",
    "    if (oddno(item)) !=None:\n",
    "        filterlist.append(oddno(item))\n",
    "print(filterlist)\n"
   ]
  },
  {
   "cell_type": "code",
   "execution_count": 123,
   "id": "c41d628f-68da-4ef5-b4a1-6cab5658da40",
   "metadata": {},
   "outputs": [
    {
     "data": {
      "text/plain": [
       "[1, 2, 3, 4, 5, 6, 7, 8, 9, 10]"
      ]
     },
     "execution_count": 123,
     "metadata": {},
     "output_type": "execute_result"
    }
   ],
   "source": [
    "l"
   ]
  },
  {
   "cell_type": "code",
   "execution_count": 136,
   "id": "73db6f97-7988-45fc-acc9-a07edd1c1f5c",
   "metadata": {},
   "outputs": [
    {
     "name": "stdout",
     "output_type": "stream",
     "text": [
      "Positive List  [0, 1, 2, 3, 4, 5, 6]\n",
      "Negative List  [-5, -4, -3, -2, -1]\n"
     ]
    }
   ],
   "source": [
    "# Sort a list of integers into positive and negative integers lists.\n",
    "l = [1,2,3,4,5,6,-1,-2,-3,-4,-5,0]\n",
    "poslist = []\n",
    "neglist = []\n",
    "\n",
    "numlist = lambda x : x if x>=0 else x\n",
    "for item in l:\n",
    "    if (numlist(item))>=0:\n",
    "        poslist.append(numlist(item))\n",
    "    else:\n",
    "        neglist.append(numlist(item))\n",
    "poslist.sort()\n",
    "neglist.sort()\n",
    "\n",
    "print(\"Positive List \", poslist)\n",
    "print(\"Negative List \", neglist)"
   ]
  },
  {
   "cell_type": "code",
   "execution_count": null,
   "id": "a0bf8778-0ceb-4106-a515-caeb0402fd87",
   "metadata": {},
   "outputs": [],
   "source": []
  },
  {
   "cell_type": "code",
   "execution_count": null,
   "id": "3cc92864-5f35-44b0-b36b-70454733b261",
   "metadata": {},
   "outputs": [],
   "source": []
  },
  {
   "cell_type": "code",
   "execution_count": null,
   "id": "8ed53a0c-d993-4b13-a56b-d7e1ffd75b17",
   "metadata": {},
   "outputs": [],
   "source": []
  }
 ],
 "metadata": {
  "kernelspec": {
   "display_name": "Python 3 (ipykernel)",
   "language": "python",
   "name": "python3"
  },
  "language_info": {
   "codemirror_mode": {
    "name": "ipython",
    "version": 3
   },
   "file_extension": ".py",
   "mimetype": "text/x-python",
   "name": "python",
   "nbconvert_exporter": "python",
   "pygments_lexer": "ipython3",
   "version": "3.10.8"
  }
 },
 "nbformat": 4,
 "nbformat_minor": 5
}
