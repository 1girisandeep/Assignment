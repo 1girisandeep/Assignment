{
 "cells": [
  {
   "cell_type": "code",
   "execution_count": null,
   "id": "d7426f68-a820-4a7b-a604-1383bd654076",
   "metadata": {},
   "outputs": [],
   "source": [
    "# Explain GET and POST methods. \n",
    "- GET Method used to send data using URL\n",
    "- POST Method used to send data using body"
   ]
  },
  {
   "cell_type": "code",
   "execution_count": null,
   "id": "bc3119e2-1587-418a-86bf-098505907cff",
   "metadata": {},
   "outputs": [],
   "source": [
    "# Why is request used in Flask?\n",
    "- Request package in Flask is used to receive all the data sent from the Client to Server. "
   ]
  },
  {
   "cell_type": "code",
   "execution_count": null,
   "id": "4f515b21-8f4a-4da4-beab-2aff9f0cf9c7",
   "metadata": {},
   "outputs": [],
   "source": [
    "# Why is redirect() used in Flask?\n",
    "- redirect() is used to redirect route to specific function based on user input "
   ]
  },
  {
   "cell_type": "code",
   "execution_count": null,
   "id": "b5c292f3-239b-4361-b913-dcc655b2814b",
   "metadata": {},
   "outputs": [],
   "source": [
    "# What are templates in Flask? \n",
    "- Templates are the folder that contain html files etc \n",
    "\n",
    "\n",
    "# Why is the render_template() function used? \n",
    "- render_template() function is used to call the html file that reside inside template folder \n",
    "\n",
    "eg \n",
    "import render_template \n",
    "\n",
    "@app.route(\"/\")\n",
    "def home_page():\n",
    "    \n",
    "    return render_template(\"index.html\")\n"
   ]
  },
  {
   "cell_type": "code",
   "execution_count": null,
   "id": "763fb6d4-0578-41dc-bc8a-0b4baff8e9e8",
   "metadata": {},
   "outputs": [],
   "source": [
    "# Create a simple API. Use Postman to test it. Attach the screenshot of the output in the Jupyter Notebook.\n",
    "- https://prnt.sc/uWAdac-mgXta"
   ]
  }
 ],
 "metadata": {
  "kernelspec": {
   "display_name": "Python 3 (ipykernel)",
   "language": "python",
   "name": "python3"
  },
  "language_info": {
   "codemirror_mode": {
    "name": "ipython",
    "version": 3
   },
   "file_extension": ".py",
   "mimetype": "text/x-python",
   "name": "python",
   "nbconvert_exporter": "python",
   "pygments_lexer": "ipython3",
   "version": "3.10.8"
  }
 },
 "nbformat": 4,
 "nbformat_minor": 5
}
