{
 "cells": [
  {
   "cell_type": "code",
   "execution_count": null,
   "id": "07e2c3ed-458b-45b2-87ad-0eac94fa3e1e",
   "metadata": {},
   "outputs": [],
   "source": [
    "Who developed Python Programming Language? \n",
    "- Python is developed by Guido Van Rossum"
   ]
  },
  {
   "cell_type": "code",
   "execution_count": null,
   "id": "1c903d45-f8f3-40eb-9c4c-f9620a1fae5e",
   "metadata": {},
   "outputs": [],
   "source": [
    "Which type of programming does Python support?\n",
    "- Python supports Functional, Structural and Object Oriented Programming "
   ]
  },
  {
   "cell_type": "code",
   "execution_count": null,
   "id": "32d1dd7a-a5a7-44bb-bf14-978f4893fad9",
   "metadata": {},
   "outputs": [],
   "source": [
    "Is Python Case Sensitive when dealing with identifiers ?\n",
    "- Yes, Python is case sensitive when dealing with identifiers "
   ]
  },
  {
   "cell_type": "code",
   "execution_count": null,
   "id": "a76591ea-c019-4269-a5e4-e4312856ffd8",
   "metadata": {},
   "outputs": [],
   "source": [
    "What is the correct extension for Python file?\n",
    "- .py is the correct extension for Python file "
   ]
  },
  {
   "cell_type": "code",
   "execution_count": null,
   "id": "84435109-1b28-429b-a071-86cb6e8505ce",
   "metadata": {},
   "outputs": [],
   "source": [
    "Is Python file compiled or interpreted?\n",
    "- Python is interpreted programming language which means python source code converted in byte code which is executed by Python Virtual machine"
   ]
  },
  {
   "cell_type": "code",
   "execution_count": null,
   "id": "f244d639-3f34-474a-bb1d-d945c8abcdae",
   "metadata": {},
   "outputs": [],
   "source": [
    "Name a block of code used to define in Python Programming language?\n",
    "- Functions "
   ]
  },
  {
   "cell_type": "code",
   "execution_count": null,
   "id": "aa755c5d-9a0d-4936-8410-1058fb802d06",
   "metadata": {},
   "outputs": [],
   "source": [
    "State a character used to give single line comment in Python?\n",
    "- # is used for single line comment in Python  "
   ]
  },
  {
   "cell_type": "code",
   "execution_count": null,
   "id": "b824e144-2936-4f07-86fd-922dc45c1ded",
   "metadata": {},
   "outputs": [],
   "source": [
    "Mention a function which can help us to find the version of Python that we are currently working on?\n",
    "- We can use python_version() to get the python version which we are working on "
   ]
  },
  {
   "cell_type": "code",
   "execution_count": null,
   "id": "2929a08b-cd36-4fb1-91ac-56882db5cc35",
   "metadata": {},
   "outputs": [],
   "source": [
    "Python supports the creation of anonymous function at runtime using a construct called?\n",
    "- lambda"
   ]
  },
  {
   "cell_type": "code",
   "execution_count": null,
   "id": "15dd0d8a-585d-428a-98ab-0249e6bf2b1a",
   "metadata": {},
   "outputs": [],
   "source": [
    "What does PIP stand for?\n",
    "- PIP stands for Package Manager "
   ]
  },
  {
   "cell_type": "code",
   "execution_count": null,
   "id": "9904f694-c697-4606-9ef6-d4d2a4247911",
   "metadata": {},
   "outputs": [],
   "source": [
    "Mention a few built in functions in Python?\n",
    "- There are number of built in function in Python eg input(), print(), upper(), str() etc  "
   ]
  },
  {
   "cell_type": "code",
   "execution_count": null,
   "id": "fbf02497-a205-470f-8d57-d0db3d0e32cd",
   "metadata": {},
   "outputs": [],
   "source": [
    "What is maximum possible length of identifier in Python?\n",
    "- The maximum length of identifier is 79 character  "
   ]
  },
  {
   "cell_type": "code",
   "execution_count": null,
   "id": "e2e19154-2046-487d-99e3-4158bfedd871",
   "metadata": {},
   "outputs": [],
   "source": [
    "What are the benefits of using Python?\n",
    "- The benefits of using Python it is used for Complex Mathematics, Big Data etc   "
   ]
  },
  {
   "cell_type": "code",
   "execution_count": null,
   "id": "1ead6331-128a-4fd9-a640-f8ab9ef6071f",
   "metadata": {},
   "outputs": [],
   "source": [
    "How is memory managed in Python?\n",
    "- Memory is managed in three layers in python   "
   ]
  },
  {
   "cell_type": "code",
   "execution_count": null,
   "id": "e45cddc8-9487-469b-9493-40cc414e3981",
   "metadata": {},
   "outputs": [],
   "source": [
    "How to install python on window and set path variable?\n",
    "-   "
   ]
  },
  {
   "cell_type": "code",
   "execution_count": null,
   "id": "3d28df5e-7c70-4c7f-9c38-25e6de3916fd",
   "metadata": {},
   "outputs": [],
   "source": [
    "Is intendation require in python?\n",
    "- Yes it is required in python for eg in if block etc "
   ]
  }
 ],
 "metadata": {
  "kernelspec": {
   "display_name": "Python 3 (ipykernel)",
   "language": "python",
   "name": "python3"
  },
  "language_info": {
   "codemirror_mode": {
    "name": "ipython",
    "version": 3
   },
   "file_extension": ".py",
   "mimetype": "text/x-python",
   "name": "python",
   "nbconvert_exporter": "python",
   "pygments_lexer": "ipython3",
   "version": "3.10.8"
  }
 },
 "nbformat": 4,
 "nbformat_minor": 5
}
