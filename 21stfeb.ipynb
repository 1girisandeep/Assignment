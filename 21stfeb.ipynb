{
 "cells": [
  {
   "cell_type": "code",
   "execution_count": null,
   "id": "0400319f-6619-431e-a1c3-228cd94c603c",
   "metadata": {},
   "outputs": [],
   "source": [
    "# What is Web Scraping? Why is it Used? \n",
    "- Web scraping is an automatic technique to obtain large amounts of data from websites. \n",
    "\n",
    "# Give three areas where Web Scraping is used to get data.\n",
    "- Scrapping used in different domain to get data eg Price Comparision, Market Research and Email Marketing etc "
   ]
  },
  {
   "cell_type": "code",
   "execution_count": null,
   "id": "0b754903-a7b8-4fa7-afdb-4427a401ee7a",
   "metadata": {},
   "outputs": [],
   "source": [
    "# What are the different methods used for Web Scraping?\n",
    "- There are different method used for Web Scrapping i.e Google Sheet, HTML Parsing and XML Parsing "
   ]
  },
  {
   "cell_type": "code",
   "execution_count": null,
   "id": "483c6b28-8487-4ad9-ba33-a5ca748d2538",
   "metadata": {},
   "outputs": [],
   "source": [
    "# What is Beautiful Soup? Why is it used?\n",
    "- Beautiful Soup is a Python package for parsing HTML and XML documents"
   ]
  },
  {
   "cell_type": "code",
   "execution_count": null,
   "id": "86127f66-1607-49a8-a490-3b75dad16104",
   "metadata": {},
   "outputs": [],
   "source": [
    "# Why is flask used in this Web Scraping project?\n",
    "- We used flask to make this project as API i.e communicate between client and server "
   ]
  },
  {
   "cell_type": "code",
   "execution_count": null,
   "id": "7ca7c6d3-176f-40e6-930f-a308008b074e",
   "metadata": {},
   "outputs": [],
   "source": [
    "# Write the names of AWS services used in this project. Also, explain the use of each service. \n",
    "- We use code pipeline and beanstack AWS service in this project . \n",
    "Code pipeline is used to connect git hub and AWS  \n",
    "Beanstalk is used to deploy and manage your application "
   ]
  }
 ],
 "metadata": {
  "kernelspec": {
   "display_name": "Python 3 (ipykernel)",
   "language": "python",
   "name": "python3"
  },
  "language_info": {
   "codemirror_mode": {
    "name": "ipython",
    "version": 3
   },
   "file_extension": ".py",
   "mimetype": "text/x-python",
   "name": "python",
   "nbconvert_exporter": "python",
   "pygments_lexer": "ipython3",
   "version": "3.10.8"
  }
 },
 "nbformat": 4,
 "nbformat_minor": 5
}
